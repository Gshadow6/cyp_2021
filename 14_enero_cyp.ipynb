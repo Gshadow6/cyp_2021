{
  "nbformat": 4,
  "nbformat_minor": 0,
  "metadata": {
    "colab": {
      "name": "14_enero_cyp.ipynb",
      "provenance": [],
      "authorship_tag": "ABX9TyNOITNMHSDijqDJpHZuTyvS",
      "include_colab_link": true
    },
    "kernelspec": {
      "name": "python3",
      "display_name": "Python 3"
    }
  },
  "cells": [
    {
      "cell_type": "markdown",
      "metadata": {
        "id": "view-in-github",
        "colab_type": "text"
      },
      "source": [
        "<a href=\"https://colab.research.google.com/github/Gshadow6/cyp_2021/blob/main/14_enero_cyp.ipynb\" target=\"_parent\"><img src=\"https://colab.research.google.com/assets/colab-badge.svg\" alt=\"Open In Colab\"/></a>"
      ]
    },
    {
      "cell_type": "markdown",
      "metadata": {
        "id": "2FmraSBD5UEF"
      },
      "source": [
        "#Palabras reservadas de python 3\r\n",
        "False, None, True, and, as, assert, break, class, continue, def, del, elif, else, except, finally, for, from, global, if, import, in, is, lambda, nonlocal, not, or, pass, raise, return, try, while, with, yield, "
      ]
    },
    {
      "cell_type": "code",
      "metadata": {
        "colab": {
          "base_uri": "https://localhost:8080/"
        },
        "id": "Yg9k4cKJ5Z-E",
        "outputId": "e934fe61-befe-42fd-9b58-18feb9979e03"
      },
      "source": [
        "import keyword\r\n",
        "pr = keyword.kwlist\r\n",
        "print(len(pr))\r\n",
        "for palabra in pr:\r\n",
        "  print(palabra, end=\", \")"
      ],
      "execution_count": 9,
      "outputs": [
        {
          "output_type": "stream",
          "text": [
            "33\n",
            "False, None, True, and, as, assert, break, class, continue, def, del, elif, else, except, finally, for, from, global, if, import, in, is, lambda, nonlocal, not, or, pass, raise, return, try, while, with, yield, "
          ],
          "name": "stdout"
        }
      ]
    },
    {
      "cell_type": "markdown",
      "metadata": {
        "id": "QofRZ1gT691E"
      },
      "source": [
        "##Variable\r\n",
        "Es una espacio de memoria de la computadora para almacenar valores que cambian a lo largo de la ejecucion del programa. Este espacio de memoria esta referenciado por un identificador, el cual tiene ciertas reglas de nombrado\r\n",
        "\r\n",
        "-No puede iniciar con numero\r\n",
        "\r\n",
        "-No debe ser igual a alguna de las palabras reservadas\r\n",
        "\r\n",
        "-Evitar nombres de variables largas\r\n",
        "\r\n",
        "-Evitar muy cortos. Ejemplos(x,y)\r\n",
        "\r\n",
        "-Usar notacion snake_case"
      ]
    },
    {
      "cell_type": "code",
      "metadata": {
        "colab": {
          "base_uri": "https://localhost:8080/",
          "height": 53
        },
        "id": "0sl4TEl168Vx",
        "outputId": "63ba600e-808c-4d4b-d8f4-c48b2cfb4c99"
      },
      "source": [
        "_2edad = 12\r\n",
        "print(_2edad)\r\n",
        "\r\n",
        "\"\"\"\r\n",
        "No se puede usar una palabra reservada como identificador de variable\r\n",
        "\r\n",
        "for= 12\r\n",
        "print(for)\r\n",
        "\"\"\"\r\n"
      ],
      "execution_count": 12,
      "outputs": [
        {
          "output_type": "stream",
          "text": [
            "12\n"
          ],
          "name": "stdout"
        },
        {
          "output_type": "execute_result",
          "data": {
            "application/vnd.google.colaboratory.intrinsic+json": {
              "type": "string"
            },
            "text/plain": [
              "'\\nNo se puede usar una palabra reservada como identificador de variable\\n\\nfor= 12\\nprint(for)\\n'"
            ]
          },
          "metadata": {
            "tags": []
          },
          "execution_count": 12
        }
      ]
    },
    {
      "cell_type": "code",
      "metadata": {
        "id": "TrLrNX2F9XNE"
      },
      "source": [
        "\"\"\"\r\n",
        "La notacion snake_case consta de formar un identificador de variable separando las palabras del mismo con un guion bajo\r\n",
        "\r\n",
        "Se recomiendo que los identificadores se escriban con minusculas las variables y con mayusculas las constantes \r\n",
        "\r\n",
        "Es decir, si tenemos una variable para los dias de la semana\r\n",
        "\r\n",
        "dias_semana= 7\r\n",
        "dias_mes= 30\r\n",
        "dias_año= 365\r\n",
        "\"\"\""
      ],
      "execution_count": null,
      "outputs": []
    },
    {
      "cell_type": "markdown",
      "metadata": {
        "id": "Qy-3EsTV-Ckx"
      },
      "source": [
        "#tipos de datos\r\n",
        "-Numericos\r\n",
        "  - int 4 bytes (1, 5, 983193)\r\n",
        "  - float 4 bytes (1.14, 3.1416, 1.0)\r\n",
        "  - long 8 bytes (1, 2 , 60094, etc)\r\n",
        "  - complex 3 + 2i (Raices negativas)\r\n",
        "\r\n",
        "-Boolean\r\n",
        "  - True\r\n",
        "  - False\r\n",
        "\r\n",
        "-String\r\n",
        "  - cadenas de caracteres (\"cad\", 'cad' o \"\"\"cad\"\"\")\r\n",
        "\r\n",
        "-Listas\r\n",
        "  - [1, 2, 3, 4] o [a, b, c, d]\r\n",
        "\r\n",
        "-Tuplas\r\n",
        "  - ((edad,23)(1,2))\r\n",
        "\r\n",
        "-Conjuntos\r\n",
        "\r\n",
        "-Diccionario\r\n",
        "  -({\"nombre\":\"Juan\"})"
      ]
    },
    {
      "cell_type": "markdown",
      "metadata": {
        "id": "_lrwiGQYEZGQ"
      },
      "source": [
        "#Tipo de dato String\r\n",
        "Este tipo de dato permite almacenar cadenas de caracteres, como por ejemplo:\r\n",
        "\r\n",
        "nombre= 'Jesús'\r\n",
        "\r\n",
        "lugar_nacimiento= \"Mexico D.F., Tacuba\"\r\n",
        "~~~\r\n",
        "frase_favorita= \"\"\" \r\n",
        "El conocimiento \r\n",
        "me persigue,...\r\n",
        "pero...\r\n",
        "yo soy mas rapido!!!\r\n",
        ":)\r\n",
        "~~~"
      ]
    },
    {
      "cell_type": "code",
      "metadata": {
        "colab": {
          "base_uri": "https://localhost:8080/"
        },
        "id": "r9DGOH2TFUYP",
        "outputId": "cfa98153-9be8-4c0c-d925-ed01da6dcaec"
      },
      "source": [
        "nombre= 'Jesús'\r\n",
        "\r\n",
        "lugar_nacimiento= \"Mexico D.F., Tacuba\"\r\n",
        "\r\n",
        "frase_favorita= \"\"\" \r\n",
        "El conocimiento \r\n",
        "me persigue,...\r\n",
        "pero...\r\n",
        "yo soy mas rapido!!!\r\n",
        ":)\r\n",
        "\"\"\"\r\n",
        "\r\n",
        "print(nombre)\r\n",
        "print(lugar_nacimiento)\r\n",
        "print(frase_favorita)"
      ],
      "execution_count": 13,
      "outputs": [
        {
          "output_type": "stream",
          "text": [
            "Jesús\n",
            "Mexico D.F., Tacuba\n",
            " \n",
            "El conocimiento \n",
            "me persigue,...\n",
            "pero...\n",
            "yo soy mas rapido!!!\n",
            ":)\n",
            "\n"
          ],
          "name": "stdout"
        }
      ]
    },
    {
      "cell_type": "markdown",
      "metadata": {
        "id": "KUDOOK01Fi-0"
      },
      "source": [
        "#Strings como arreglos\r\n",
        "Un string en python es alamacenado como el tipo de dato (estructura de datos) arreglo.\r\n",
        "\r\n",
        "Por ejemplo: la declaracion\r\n",
        "~~~\r\n",
        "nombre= 'Jesus'\r\n",
        "~~~\r\n",
        "El elemento 'J' es almacenado en un arreglo en la posicion 0. La 'e' en la posicion 1 y asi sucesivamente\r\n",
        "\r\n",
        "###Selector\r\n",
        "La notacion para seleccionar un elemento del arreglo es: \r\n",
        "~~~\r\n",
        "[1]\r\n",
        "~~~\r\n",
        "Donde el valor interno debe ser un valor numerico entero "
      ]
    },
    {
      "cell_type": "code",
      "metadata": {
        "colab": {
          "base_uri": "https://localhost:8080/"
        },
        "id": "5z6wK2uVGWjC",
        "outputId": "53f8903e-c8e6-469f-ff24-f8085d56258b"
      },
      "source": [
        "nombre= 'Jesús'\r\n",
        "print(nombre)\r\n",
        "print(nombre[0])\r\n",
        "print(nombre[3])"
      ],
      "execution_count": 14,
      "outputs": [
        {
          "output_type": "stream",
          "text": [
            "Jesús\n",
            "J\n",
            "ú\n"
          ],
          "name": "stdout"
        }
      ]
    },
    {
      "cell_type": "markdown",
      "metadata": {
        "id": "tgc0Yu2AHVRF"
      },
      "source": [
        "##Iterar sobre un String\r\n",
        "Se puede iterar sobre un string con un for de la forma:\r\n",
        "~~~\r\n",
        "for letra in range(len(nombre):\r\n",
        "    print(letra)\r\n",
        "~~~"
      ]
    },
    {
      "cell_type": "code",
      "metadata": {
        "colab": {
          "base_uri": "https://localhost:8080/"
        },
        "id": "vDtPP0D8H-Gl",
        "outputId": "516f15d8-54ba-4e06-f053-e2b72babb58d"
      },
      "source": [
        "nombre= 'Jesus' \r\n",
        "print(len(nombre))\r\n",
        "\r\n",
        "for indice in range(len(nombre)):\r\n",
        "  print(indice, end=\" \")\r\n",
        "  print(nombre[indice])"
      ],
      "execution_count": 18,
      "outputs": [
        {
          "output_type": "stream",
          "text": [
            "5\n",
            "0 J\n",
            "1 e\n",
            "2 s\n",
            "3 u\n",
            "4 s\n"
          ],
          "name": "stdout"
        }
      ]
    },
    {
      "cell_type": "markdown",
      "metadata": {
        "id": "UbaUIcrSJ_qU"
      },
      "source": [
        "#Funcion range(inicio, stop, incremento)\r\n",
        "El inicio es opcional y por defecto es 0\r\n",
        "\r\n",
        "El incremento es opcional y por defecto es 1"
      ]
    },
    {
      "cell_type": "code",
      "metadata": {
        "colab": {
          "base_uri": "https://localhost:8080/"
        },
        "id": "McXWqPgIJ1qb",
        "outputId": "5a38b452-bce6-47b9-c462-271228d034d9"
      },
      "source": [
        "for indice in range(4, -1, -1):\r\n",
        "  print(nombre[indice])"
      ],
      "execution_count": 27,
      "outputs": [
        {
          "output_type": "stream",
          "text": [
            "s\n",
            "u\n",
            "s\n",
            "e\n",
            "J\n"
          ],
          "name": "stdout"
        }
      ]
    },
    {
      "cell_type": "markdown",
      "metadata": {
        "id": "Amw5O9opL7q0"
      },
      "source": [
        "#String e indexado negativo\r\n",
        "En python 3 se agrega una nueva caracteristica a los arreglos de las cadenas de caracteres esta consta de la capacidad de indexar de forma negativa \r\n",
        "\r\n",
        "La logica es la siguiente:\r\n",
        "\r\n",
        "EL ultimo elemento se le considera como indice(ALTERNATIVO) -1, con el cual se podria referenciar el final de la cadena sin la necedidad de saber el tamaño de la misma\r\n",
        "~~~\r\n",
        "nombre= 'Axel'\r\n",
        "~~~\r\n",
        "Indice normal= 0, 1, 2, 3\r\n",
        "               A  x  e  l\r\n",
        "\r\n",
        "Indice alternativo= -4, -3, -2, -1"
      ]
    },
    {
      "cell_type": "code",
      "metadata": {
        "colab": {
          "base_uri": "https://localhost:8080/"
        },
        "id": "Fs7G9QQ8MrL_",
        "outputId": "99b22f63-ecfe-4aec-8302-66165f316ea6"
      },
      "source": [
        "nombre= 'Axel'\r\n",
        "print(nombre[3])\r\n",
        "print(nombre[-1])\r\n",
        "for indice_alter in range(-1, -6, -1):\r\n",
        "  print(nombr[indice_alter])"
      ],
      "execution_count": 29,
      "outputs": [
        {
          "output_type": "stream",
          "text": [
            "l\n",
            "l\n",
            "-1\n",
            "-2\n",
            "-3\n",
            "-4\n",
            "-5\n"
          ],
          "name": "stdout"
        }
      ]
    },
    {
      "cell_type": "markdown",
      "metadata": {
        "id": "P2wg4HFpPymB"
      },
      "source": [
        "#Slicing de cadena de caracteres \r\n",
        "Esta caracteristica permite sacar secciones de una cadena de la siguiente sintaxis:\r\n",
        "~~~\r\n",
        "[inicio, stop, incremento]\r\n",
        "~~~\r\n",
        "Donde inicio e incremento son opcionales y tambien soportan indexado alternativo(negativos)"
      ]
    },
    {
      "cell_type": "code",
      "metadata": {
        "colab": {
          "base_uri": "https://localhost:8080/"
        },
        "id": "jiHumwe_Qc8p",
        "outputId": "d366de1c-7dc1-47e2-b741-8f188459b92d"
      },
      "source": [
        "facultad= \"Facultad de Estudios Superiores Aragón (la mejor) \"\r\n",
        "print(facultad)\r\n",
        "\r\n",
        "for estudios in range(12,20):\r\n",
        "  print(facultad[estudios], end=\"\")\r\n",
        "\r\n",
        "#hacer esto mismo con la caracteristica slicing\r\n",
        "print(\"\\nCon Slicing\")\r\n",
        "\r\n",
        "#con slicing poniendo solo \"de\"\r\n",
        "print(facultad[9:11:1])\r\n",
        "\r\n",
        "#con Slicing poniendo solo \"(la mejor)\"\r\n",
        "print(facultad[-11:-1:1]) "
      ],
      "execution_count": 48,
      "outputs": [
        {
          "output_type": "stream",
          "text": [
            "Facultad de Estudios Superiores Aragón (la mejor) \n",
            "Estudios\n",
            "Con Slicing\n",
            "de\n",
            "(la mejor)\n"
          ],
          "name": "stdout"
        }
      ]
    }
  ]
}