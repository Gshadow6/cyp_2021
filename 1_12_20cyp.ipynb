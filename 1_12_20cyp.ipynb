{
  "nbformat": 4,
  "nbformat_minor": 0,
  "metadata": {
    "colab": {
      "name": "1_12_20cyp.ipynb",
      "provenance": [],
      "authorship_tag": "ABX9TyNRbTkTES3GljpDJ2spmAzt",
      "include_colab_link": true
    },
    "kernelspec": {
      "name": "python3",
      "display_name": "Python 3"
    }
  },
  "cells": [
    {
      "cell_type": "markdown",
      "metadata": {
        "id": "view-in-github",
        "colab_type": "text"
      },
      "source": [
        "<a href=\"https://colab.research.google.com/github/Gshadow6/cyp_2021/blob/main/1_12_20cyp.ipynb\" target=\"_parent\"><img src=\"https://colab.research.google.com/assets/colab-badge.svg\" alt=\"Open In Colab\"/></a>"
      ]
    },
    {
      "cell_type": "code",
      "metadata": {
        "id": "clZlNsX1EJRY",
        "colab": {
          "base_uri": "https://localhost:8080/"
        },
        "outputId": "28764e05-39df-4354-ffa5-0da01f6fd6eb"
      },
      "source": [
        "#Ejemplo 1\n",
        "#Pedir 3 numeros enteros y mostrar el mayor de los 3\n",
        "num1 = int(input(\"Escriba el primer numero entero \"))\n",
        "num2 = int(input(\"Escriba el segundo numero entero \"))\n",
        "num3 = int(input(\"Escriba el tercer numero entero \"))\n",
        "\n",
        "if num1 > num2 and num1 > num3:\n",
        "  print(f\"{num1} es mayor\")\n",
        "\n",
        "elif num2 > num1 and num2 > num3:\n",
        "  print(f\"{num2} es mayor\")\n",
        "\n",
        "else:\n",
        " print(f\"{num3} es mayor\")\n",
        "\n"
      ],
      "execution_count": 2,
      "outputs": [
        {
          "output_type": "stream",
          "text": [
            "Escriba el primer numero entero9\n",
            "Escriba el segundo numero entero8\n",
            "Escriba el tercer numero entero3\n",
            "9 es mayor\n"
          ],
          "name": "stdout"
        }
      ]
    },
    {
      "cell_type": "code",
      "metadata": {
        "colab": {
          "base_uri": "https://localhost:8080/"
        },
        "id": "lPxbv-SvWdy4",
        "outputId": "699b5335-8983-4583-84c4-cf235b9e84c6"
      },
      "source": [
        "#Ejemplo 2\n",
        "#Calcular el salario semanal de x trabajador\n",
        "#El salario semanal se calcula en base a las horas semanales trabajadas\n",
        "#El pago por hora es variable (se pide por teclado)\n",
        "print(\"Ingrese el nombre del trabajador\")\n",
        "nombre=str (input())\n",
        "print(f\"¿Cuantas horas trabajo esta semana {nombre} ?\" )\n",
        "horas=int (input())\n",
        "print(\"¿Cuanto es el sueldo por hora?:\")\n",
        "sueldoH= float (input())\n",
        "\n",
        "#Evaluar su sueldo\n",
        "\n",
        "if (horas<=40):\n",
        "  pago = horas*sueldoH\n",
        "  print(f\"El pago total de {nombre} es ${pago}\") \n",
        "\n",
        "else:\n",
        "  extras = horas - 40\n",
        "  pago = 40*sueldoH\n",
        "  pagoFinal = pago + ((extras * sueldoH)*2)\n",
        "  print(nombre,\"Su pago total es de $\",pagoFinal)"
      ],
      "execution_count": 4,
      "outputs": [
        {
          "output_type": "stream",
          "text": [
            "Ingrese el nombre del trabajador\n",
            "Gerardo Guiterritos\n",
            "¿Cuantas horas trabajo esta semana Gerardo Guiterritos ?\n",
            "20\n",
            "¿Cuanto es el sueldo por hora?:\n",
            "10\n",
            "El pago total de Gerardo Guiterritos es $200.0\n"
          ],
          "name": "stdout"
        }
      ]
    },
    {
      "cell_type": "code",
      "metadata": {
        "colab": {
          "base_uri": "https://localhost:8080/"
        },
        "id": "r-uGlVfzZwMG",
        "outputId": "dc2a13c5-20c7-4f90-dc5a-9a7c23e610f3"
      },
      "source": [
        "#Ejemplo 3\n",
        "#Calcular el salario semanal de x trabajador\n",
        "#El salario semanal se calcula en base a las horas semanales trabajadas\n",
        "#El pago por hora es variable (se pide por teclado)\n",
        "#Si las horas trabajadas superan las 40 horas, el pago por hora extra es:\n",
        "#Doble en el rango de 41horas a 50horas\n",
        "#Triple en el rango de 51horas a 60 horas\n",
        "#Incentivo de $2000 si rebasa las 60 horas.\n",
        "print(\"Ingrese el nombre del trabajador\")\n",
        "nombre=str (input())\n",
        "print(f\"¿Cuantas horas trabajo esta semana {nombre} ?\" )\n",
        "horas=int (input()) \n",
        "print(\"¿Cuanto es el sueldo por hora?:\")\n",
        "sueldoH= float (input()) #10\n",
        "\n",
        "#Evaluar su sueldo\n",
        "\n",
        "if (horas <= 40):\n",
        "  pago = horas*sueldoH\n",
        "  print(f\"El pago total de {nombre} es ${pago}\") \n",
        "\n",
        "elif (horas > 40 and horas < 50):\n",
        "  exdoble = horas - 40\n",
        "  sueldobase = 40 * sueldoH\n",
        "  pagodoble = (sueldoH * 2) * exdoble \n",
        "  pagofinal = sueldobase + pagodoble\n",
        "  print(f\"El pago total de {nombre} es ${pagofinal}\")\n",
        "\n",
        "elif (horas > 50 and horas < 60):\n",
        "  extriple = horas - 50\n",
        "  sueldobase = 40 * sueldoH #$400\n",
        "  pagodoble = (sueldoH * 2) * 10 #$200\n",
        "  pagotriple = (sueldoH * 3) * extriple \n",
        "  pagofinal = sueldobase + pagodoble + pagotriple\n",
        "  print(f\"El pago total de {nombre} es ${pagofinal}\")\n",
        "\n",
        "else:\n",
        "  sueldobase = 40 * sueldoH #$400\n",
        "  pagodoble = (sueldoH * 2) * 10 #$200\n",
        "  pagotriple = (sueldoH * 3) * 10 #$300\n",
        "  incentivo = 2000\n",
        "  pagofinal = sueldobase + pagodoble + pagotriple + incentivo\n",
        "  print(f\"El pago total de {nombre} es ${pagofinal}\")\n"
      ],
      "execution_count": 16,
      "outputs": [
        {
          "output_type": "stream",
          "text": [
            "Ingrese el nombre del trabajador\n",
            "alex\n",
            "¿Cuantas horas trabajo esta semana alex ?\n",
            "61\n",
            "¿Cuanto es el sueldo por hora?:\n",
            "10\n",
            "Horas extras dobles: 10\n",
            "Horas extras triples: 10\n",
            "El sueldo base es : 400.0\n",
            "El pago total de alex es $2900.0\n"
          ],
          "name": "stdout"
        }
      ]
    },
    {
      "cell_type": "code",
      "metadata": {
        "colab": {
          "base_uri": "https://localhost:8080/"
        },
        "id": "gb5xqmesptW8",
        "outputId": "6c0300b2-7e16-4641-830e-591a241cdea4"
      },
      "source": [
        "#Estructura for\n",
        "#Ejemplo 1\n",
        "\n",
        "for estaciones_año in [\"primavera\",\"verano\",\"otoño\",\"invierno\",\"venus\"]:\n",
        "  print(estaciones_año)\n",
        "\n",
        "#variables que suelen formar parte de FOR son \"i\""
      ],
      "execution_count": 18,
      "outputs": [
        {
          "output_type": "stream",
          "text": [
            "primavera\n",
            "verano\n",
            "otoño\n",
            "invierno\n"
          ],
          "name": "stdout"
        }
      ]
    }
  ]
}