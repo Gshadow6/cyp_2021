{
  "nbformat": 4,
  "nbformat_minor": 0,
  "metadata": {
    "colab": {
      "name": "enero_12_CYP.ipynb",
      "provenance": [],
      "authorship_tag": "ABX9TyNQbvAI1EH2DoEybgpkZYRc",
      "include_colab_link": true
    },
    "kernelspec": {
      "name": "python3",
      "display_name": "Python 3"
    }
  },
  "cells": [
    {
      "cell_type": "markdown",
      "metadata": {
        "id": "view-in-github",
        "colab_type": "text"
      },
      "source": [
        "<a href=\"https://colab.research.google.com/github/Gshadow6/cyp_2021/blob/main/enero_12_CYP.ipynb\" target=\"_parent\"><img src=\"https://colab.research.google.com/assets/colab-badge.svg\" alt=\"Open In Colab\"/></a>"
      ]
    },
    {
      "cell_type": "markdown",
      "metadata": {
        "id": "R780aT6dpmPX"
      },
      "source": [
        "#Introduccion a Python\r\n",
        "-Creado en los 90's por Guido Van R.\r\n",
        "\r\n",
        "-En el 2000 Python mejora y tiene nuevas caracteristicas.\r\n",
        "\r\n",
        "-En el 2020 deja de ser la version oficial python 2.7 y solo se le dará soporte a python 3 en adelante.\r\n",
        "\r\n",
        "##Caracteristicas de Python\r\n",
        "1.-Lenguaje de proposito general. (Que se puede usar en diferentes areas)\r\n",
        "\r\n",
        "2.-Interpretado y no compilado.\r\n",
        "\r\n",
        "3.-Tipos de datos dinamicos. (numeros, cadenas, booleanos, entre otros).\r\n",
        "\r\n",
        "4.-Multiplataforma\r\n",
        "\r\n",
        "5.-Lenguaje multiparadigma. (Imperativa, Programacion Orientada a Objetos y funcional).\r\n",
        "\r\n",
        "6.-Codigo es estructurado por identacion\r\n",
        "\r\n",
        "~~~\r\n",
        "\r\n",
        "if a>10\r\n",
        "\r\n",
        "  print(\"Hola\")\r\n",
        "\r\n",
        "print(\"Hola dos\")\r\n",
        "\r\n",
        "~~~\r\n",
        "\r\n",
        "##Principios Zen de Python\r\n",
        "-Son las caracteristicas que guian el diseño del lenguaje de programacion python\r\n",
        "\r\n"
      ]
    },
    {
      "cell_type": "code",
      "metadata": {
        "colab": {
          "base_uri": "https://localhost:8080/"
        },
        "id": "p60OIpWbuoZ_",
        "outputId": "29c74cf6-08cd-4d39-87d6-d77a0d69eef3"
      },
      "source": [
        "#Primer programa en python 3\r\n",
        "\r\n",
        "nombre = \"Jose\"\r\n",
        "edad = 18\r\n",
        "print(f\"Hola {nombre}\",edad)"
      ],
      "execution_count": 3,
      "outputs": [
        {
          "output_type": "stream",
          "text": [
            "Hola Jose 18\n"
          ],
          "name": "stdout"
        }
      ]
    },
    {
      "cell_type": "markdown",
      "metadata": {
        "id": "fw3afIM_vrgy"
      },
      "source": [
        "##La funcion print()\r\n",
        "\r\n",
        "-Es una de las funciones mas empleadas en programacion y busca enviar datos a la salida estandar (monitor)\r\n",
        "\r\n",
        "###Formas de uso\r\n",
        "1.-Con comas\r\n",
        "\r\n",
        "2.-Con signos\r\n",
        "\r\n",
        "3.-.format()\r\n",
        "\r\n",
        "4.-el operador f\"\r\n",
        "\r\n",
        "##con comas\r\n",
        "Concatena los argumentos enviados a print y les agrega un espacio\r\n",
        "\r\n",
        "\r\n",
        "##con signos +\r\n",
        "Concatena los valores sin espacio y sin hacer conversion de tipos\r\n",
        "\r\n",
        "##con la funcion .format()\r\n",
        "permite darle formato a la salida de la impresion de variables. Emplea la funcion format de el tipo de dato string.\r\n",
        "~~~\r\n",
        "\"cadena {} a {} forma{}tear\" .format(v1,v2,vn)\r\n",
        "~~~\r\n",
        "Emplea como comodines para sustitur valores los signos {}.\r\n",
        "\r\n",
        "##con el operador f\r\n",
        "Es una variante de la forma anterior pero enmascarando la funcion .format()\r\n",
        "\r\n",
        "print(f\"Nombre: {nombre} con una edad de: {edad} años.\")"
      ]
    },
    {
      "cell_type": "code",
      "metadata": {
        "colab": {
          "base_uri": "https://localhost:8080/"
        },
        "id": "u0NM_575xMbr",
        "outputId": "1cd2b6a7-8274-4257-e834-5abd57370761"
      },
      "source": [
        "nombre = \"Jose\"\r\n",
        "edad = 18\r\n",
        "print(\"Hola\",nombre,edad)\r\n",
        "print(\"Hola\"+nombre+str(edad))\r\n",
        "#Nombre: José, con una edad de: 18 años\r\n",
        "print(\"Nombre:\", nombre,\",con una edad de:\", edad,\"años\")\r\n",
        "print(\"Nombre: \"+nombre+\", con una edad de: \"+str(edad)+\" años\")\r\n",
        "#con format()\r\n",
        "print(\"Nombre: {}, con una edad de: {} años.\" .format(nombre,edad))\r\n",
        "print(\"Nombre: {1}, con una edad de: {0} años.\" .format(nombre,edad))\r\n",
        "#con operador f\"\r\n",
        "print(f\"Nombre: {nombre}, con una edad de: {edad} años\")"
      ],
      "execution_count": 14,
      "outputs": [
        {
          "output_type": "stream",
          "text": [
            "Hola Jose 18\n",
            "HolaJose18\n",
            "Nombre: Jose ,con una edad de: 18 años\n",
            "Nombre: Jose, con una edad de: 18 años\n",
            "Nombre: Jose, con una edad de: 18 años.\n",
            "Nombre: 18, con una edad de: Jose años.\n",
            "Nombre: Jose, con una edad de: 18 años\n"
          ],
          "name": "stdout"
        }
      ]
    },
    {
      "cell_type": "markdown",
      "metadata": {
        "id": "unxsj_tX2RIt"
      },
      "source": [
        "##Funcion print() y los caracteres de escape\r\n",
        "-\\n salto de lines\r\n",
        "\r\n",
        "-\\t tabulador\r\n",
        "\r\n",
        "-\\imprimir la diagonal\r\n",
        "\r\n",
        "-\\'y\\\"\r\n",
        "\r\n",
        "-\\uxxxx\r\n",
        "\r\n",
        "-\\uxxxxxxxx"
      ]
    },
    {
      "cell_type": "code",
      "metadata": {
        "colab": {
          "base_uri": "https://localhost:8080/"
        },
        "id": "6-ksG_bZ2qfg",
        "outputId": "1aade30e-88b1-4616-dd93-ee996673f3da"
      },
      "source": [
        "print('\"')\r\n",
        "print(\"\\\"\")\r\n",
        "print(\"Nombre: Jose\\n\\tcon una edad de:\\\\ 18 años\")\r\n",
        "#caracteres unicode (caracteres especiales)\r\n",
        "print(\"Hola \\u2661\")"
      ],
      "execution_count": 20,
      "outputs": [
        {
          "output_type": "stream",
          "text": [
            "\"\n",
            "\"\n",
            "Nombre: Jose\n",
            "\tcon una edad de:\\ 18 años\n",
            "Hola ♡\n"
          ],
          "name": "stdout"
        }
      ]
    },
    {
      "cell_type": "markdown",
      "metadata": {
        "id": "bgCFVbMR8IkI"
      },
      "source": [
        "## print y salto de linea en el argumento\r\n",
        "\r\n",
        "print([lista de variables], end=\"\\n\")"
      ]
    },
    {
      "cell_type": "code",
      "metadata": {
        "colab": {
          "base_uri": "https://localhost:8080/"
        },
        "id": "zuz7TbOa8hGA",
        "outputId": "ac027000-d85a-44f5-eb0c-8caa96d29230"
      },
      "source": [
        "print(\"Hola \", end=\"\\n\")\r\n",
        "print(\"Mundo \", end=\"\\n\")\r\n",
        "print(\"Fin \", end=\"\\n\")\r\n",
        "\r\n",
        "print(\"Hola \", end=\"\")\r\n",
        "print(\"Mundo \", end=\"\")\r\n",
        "print(\"Fin \", end=\"\\n\")"
      ],
      "execution_count": 22,
      "outputs": [
        {
          "output_type": "stream",
          "text": [
            "Hola \n",
            "Mundo \n",
            "Fin \n",
            "Hola Mundo Fin \n"
          ],
          "name": "stdout"
        }
      ]
    },
    {
      "cell_type": "markdown",
      "metadata": {
        "id": "RtND6CzD9gdQ"
      },
      "source": [
        "#Comentarios en Py\r\n",
        "Un comentario en programacion, es un texto especial que es ignorado por el interprete o compilador (segun sea el caso del lenguaje) y es empleado para que el programador documente sus algoritmos\r\n",
        "\r\n",
        "Existen dos tipos: de linea simple y de multiples lineas\r\n",
        "\r\n",
        "Linea simple: se emplea con #\r\n",
        "~~~\r\n",
        "#Esto es un comentario de linea simple\r\n",
        "~~~\r\n",
        "\r\n",
        "Multiples lineas: se emplea con \"\"\"\r\n",
        "\r\n",
        "~~~\r\n",
        "\"\"\"\r\n",
        "Esto es\r\n",
        "Un comentario\r\n",
        "De linea \r\n",
        "multiple\r\n",
        "\"\"\"\r\n",
        "~~~"
      ]
    },
    {
      "cell_type": "code",
      "metadata": {
        "colab": {
          "base_uri": "https://localhost:8080/"
        },
        "id": "NBxOWIyO-oTg",
        "outputId": "d3ada756-56b5-4630-e621-52b6b114cea4"
      },
      "source": [
        "print(\"Hola\")\r\n",
        "#print(\"Hola\")\r\n",
        "#cualquier cosa\r\n",
        "print(\"Hola\")\r\n",
        "print(\"Hola\") #esta linea imprime hola\r\n",
        "print(\"Hola\")\r\n",
        "print(\"Hola\")\r\n",
        "\"\"\"\r\n",
        "Esto es \r\n",
        "Un comentario de linea multiple\r\n",
        "Ideal para cuando se desea explicar algo a fondo\r\n",
        "\"\"\"\r\n",
        "print(\"Hola\")\r\n",
        "print(\"Hola\")"
      ],
      "execution_count": 24,
      "outputs": [
        {
          "output_type": "stream",
          "text": [
            "Hola\n",
            "Hola\n",
            "Hola\n",
            "Hola\n",
            "Hola\n",
            "Hola\n",
            "Hola\n"
          ],
          "name": "stdout"
        }
      ]
    }
  ]
}