{
  "nbformat": 4,
  "nbformat_minor": 0,
  "metadata": {
    "colab": {
      "name": "Tarea_7.ipynb",
      "provenance": [],
      "collapsed_sections": [],
      "authorship_tag": "ABX9TyOU4Cmg0lA/gANOGmkimTMQ",
      "include_colab_link": true
    },
    "kernelspec": {
      "name": "python3",
      "display_name": "Python 3"
    }
  },
  "cells": [
    {
      "cell_type": "markdown",
      "metadata": {
        "id": "view-in-github",
        "colab_type": "text"
      },
      "source": [
        "<a href=\"https://colab.research.google.com/github/Gshadow6/cyp_2021/blob/main/Tarea_7.ipynb\" target=\"_parent\"><img src=\"https://colab.research.google.com/assets/colab-badge.svg\" alt=\"Open In Colab\"/></a>"
      ]
    },
    {
      "cell_type": "code",
      "metadata": {
        "colab": {
          "base_uri": "https://localhost:8080/"
        },
        "id": "22Ew9RgNOG-V",
        "outputId": "0d4eaa99-d7c6-4b99-cc1b-46b096b8e686"
      },
      "source": [
        "#Problema 4.11\r\n",
        "total = int(input(\"¿Cuántos países en total serán?: \"))\r\n",
        "\r\n",
        "tpn, tpc, tpc, aux, aux2 = 0, 0, 0, 0, 0\r\n",
        "while True:\r\n",
        "  tpn = int(input(\"¿Cuántos países serán para el Norte de América?: \"))\r\n",
        "  tpc = int(input(\"¿Cuántos países serán para el Centro de América?: \"))\r\n",
        "  tps = int(input(\"¿Cuántos países serán para el Sur de América?: \"))\r\n",
        "  aux = tpn + tpc + tps\r\n",
        "\r\n",
        "  if aux == total:\r\n",
        "    break;\r\n",
        "  elif aux < total:\r\n",
        "    print(\"La cantidad de países ingresada por regiones es menor a la total.\")\r\n",
        "  elif aux > total:\r\n",
        "    print(\"La cantidad de países ingresada por regiones es mayor a la total.\")\r\n",
        "\r\n",
        "lpaises = [\"Norte\", \"Centro\", \"Sur\"]\r\n",
        "aux = 0\r\n",
        "i = 1\r\n",
        "norte = [str(0) for x in range(tpn)]\r\n",
        "centro = [str(0) for x in range(tpc)]\r\n",
        "sur = [str(0) for x in range(tps)]\r\n",
        "ptotal = [str(0) for x in range(total)]\r\n",
        "\r\n",
        "for i in range(total):\r\n",
        "  ptotal[i] = str(input(f\"Ingresa el nombre del país {aux+1} del {lpaises[aux2]} de América: \"))\r\n",
        "  aux += 1\r\n",
        "  if aux2 == 0:\r\n",
        "    if aux >= tpn:\r\n",
        "      aux = 0\r\n",
        "      aux2 = 1\r\n",
        "    norte[aux] = ptotal[i]\r\n",
        "  elif aux2 == 1:\r\n",
        "    if aux >= tpc:\r\n",
        "      aux = 0\r\n",
        "      aux2 = 2\r\n",
        "    centro[aux] = ptotal[i]\r\n",
        "  elif aux2 == 2:\r\n",
        "    if aux >= tps:\r\n",
        "      aux = 0\r\n",
        "    sur[aux] = ptotal[i]\r\n",
        "\r\n",
        "print(f\"Norte: {sorted(norte)}\")\r\n",
        "print(f\"Centro: {sorted(centro)}\")\r\n",
        "print(f\"Sur: {sorted(sur)}\")\r\n",
        "print(f\"Todos: {sorted(ptotal)}\")"
      ],
      "execution_count": 16,
      "outputs": [
        {
          "output_type": "stream",
          "text": [
            "¿Cuántos países en total serán?: 6\n",
            "¿Cuántos países serán para el Norte de América?: 2\n",
            "¿Cuántos países serán para el Centro de América?: 2\n",
            "¿Cuántos países serán para el Sur de América?: 2\n",
            "Ingresa el nombre del país 1 del Norte de América: colombia\n",
            "Ingresa el nombre del país 2 del Norte de América: ecuador\n",
            "Ingresa el nombre del país 1 del Centro de América: belice\n",
            "Ingresa el nombre del país 2 del Centro de América: chile\n",
            "Ingresa el nombre del país 1 del Sur de América: estados unidos\n",
            "Ingresa el nombre del país 2 del Sur de América: mexico\n",
            "Norte: ['colombia', 'ecuador']\n",
            "Centro: ['belice', 'chile']\n",
            "Sur: ['estados unidos', 'mexico']\n",
            "Todos: ['belice', 'chile', 'colombia', 'ecuador', 'estados unidos', 'mexico']\n"
          ],
          "name": "stdout"
        }
      ]
    }
  ]
}