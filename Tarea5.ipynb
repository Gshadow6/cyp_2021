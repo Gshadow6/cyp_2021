{
  "nbformat": 4,
  "nbformat_minor": 0,
  "metadata": {
    "colab": {
      "name": "Tarea5.ipynb",
      "provenance": [],
      "authorship_tag": "ABX9TyNGXMa6dSJ89cv0taZQ9w6N",
      "include_colab_link": true
    },
    "kernelspec": {
      "name": "python3",
      "display_name": "Python 3"
    }
  },
  "cells": [
    {
      "cell_type": "markdown",
      "metadata": {
        "id": "view-in-github",
        "colab_type": "text"
      },
      "source": [
        "<a href=\"https://colab.research.google.com/github/Gshadow6/cyp_2021/blob/main/Tarea5.ipynb\" target=\"_parent\"><img src=\"https://colab.research.google.com/assets/colab-badge.svg\" alt=\"Open In Colab\"/></a>"
      ]
    },
    {
      "cell_type": "code",
      "metadata": {
        "colab": {
          "base_uri": "https://localhost:8080/"
        },
        "id": "NDF-rC_9df1L",
        "outputId": "231b3077-bbdf-499f-825e-487b98558534"
      },
      "source": [
        "#Ejercicio 3.1\n",
        "numem= int(input(\"¿Cuantos empleados hay en la empresa? \"))\n",
        "numem = numem + 1\n",
        "sueldo = 0\n",
        "nom = 0\n",
        "\n",
        "for i in range(1, numem):\n",
        "   sueldo = float(input(f\"ingrese el sueldo {i} \"))\n",
        "\n",
        "   nom= nom + sueldo\n",
        "print(f\"la nomina es {nom}\")"
      ],
      "execution_count": 28,
      "outputs": [
        {
          "output_type": "stream",
          "text": [
            "¿Cuantos empleados hay en la empresa? 10\n",
            "ingrese el sueldo 1 1500\n",
            "ingrese el sueldo 2 890\n",
            "ingrese el sueldo 3 700\n",
            "ingrese el sueldo 4 950\n",
            "ingrese el sueldo 5 2300\n",
            "ingrese el sueldo 6 1650\n",
            "ingrese el sueldo 7 1800\n",
            "ingrese el sueldo 8 1400\n",
            "ingrese el sueldo 9 760\n",
            "ingrese el sueldo 10 900\n",
            "la nomina es 12850.0\n"
          ],
          "name": "stdout"
        }
      ]
    },
    {
      "cell_type": "code",
      "metadata": {
        "colab": {
          "base_uri": "https://localhost:8080/"
        },
        "id": "LCaa_l02djX6",
        "outputId": "7ecec64d-864a-4ff9-dec6-202a8aab643e"
      },
      "source": [
        "#Ejercicio 3.4\n",
        "total= 0\n",
        "gasto= 0\n",
        "while (gasto != -1):\n",
        "  total= total + gasto\n",
        "  gasto= float(input(\"Ingrese el gasto \"))\n",
        "print(f\"El gasto total es {total}\")"
      ],
      "execution_count": 21,
      "outputs": [
        {
          "output_type": "stream",
          "text": [
            "Ingrese el gasto 2528\n",
            "Ingrese el gasto 3500\n",
            "Ingrese el gasto 1600\n",
            "Ingrese el gasto 1850\n",
            "Ingrese el gasto 150\n",
            "Ingrese el gasto -1\n",
            "El gasto total es 9628.0\n"
          ],
          "name": "stdout"
        }
      ]
    }
  ]
}