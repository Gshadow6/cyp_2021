{
  "nbformat": 4,
  "nbformat_minor": 0,
  "metadata": {
    "colab": {
      "name": "Tarea4.ipynb",
      "provenance": [],
      "authorship_tag": "ABX9TyNxJM+9sokGvHUHup+iHZHn",
      "include_colab_link": true
    },
    "kernelspec": {
      "name": "python3",
      "display_name": "Python 3"
    }
  },
  "cells": [
    {
      "cell_type": "markdown",
      "metadata": {
        "id": "view-in-github",
        "colab_type": "text"
      },
      "source": [
        "<a href=\"https://colab.research.google.com/github/Gshadow6/cyp_2021/blob/main/Tarea4.ipynb\" target=\"_parent\"><img src=\"https://colab.research.google.com/assets/colab-badge.svg\" alt=\"Open In Colab\"/></a>"
      ]
    },
    {
      "cell_type": "code",
      "metadata": {
        "colab": {
          "base_uri": "https://localhost:8080/"
        },
        "id": "8STFk2xBvrA6",
        "outputId": "b3845cab-b89e-4919-d1f9-90229bb973d7"
      },
      "source": [
        "#Ejercicio 2.4 \n",
        "#Construya un programa que dado un sueldo de un trabajador, le aplique un aumento del 15% si su sueldo es inferior a $1000, y 12% si su sueldo es mayor a $1000\n",
        "sueldo = float(input(\"¿Cual es el sueldo del trabajador? \"))\n",
        "\n",
        "if (sueldo > 1000):\n",
        "  aum = sueldo * .12\n",
        "  sueldofinal = aum + sueldo\n",
        "  print(f\"El sueldo final es {sueldofinal}\")\n",
        "\n",
        "else:\n",
        "  aum = sueldo * .15\n",
        "  sueldofinal = aum + sueldo\n",
        "  print(f\"El sueldo final es {sueldofinal}\")"
      ],
      "execution_count": 3,
      "outputs": [
        {
          "output_type": "stream",
          "text": [
            "¿Cual es el sueldo del trabajador? 1200\n",
            "El sueldo final es 1344.0\n"
          ],
          "name": "stdout"
        }
      ]
    },
    {
      "cell_type": "code",
      "metadata": {
        "colab": {
          "base_uri": "https://localhost:8080/"
        },
        "id": "jTsX5VfIyGUT",
        "outputId": "73b1635c-3c44-4625-f6db-f096fe9778c4"
      },
      "source": [
        "#Ejercicio 2.8\n",
        "#Dado la categoria y el sueldo de un trabajador; calcule el aumento correspondiente:   categoria 1 = 15%, categoria 2 = 10%, categoria 3 = 8% y categoria 4 = 7%\n",
        "cat = int(input(\"¿Cual es su categoria de trabajador? \"))\n",
        "sueldo = float(input(\"¿Cual es el sueldo del trabajador? \"))\n",
        "\n",
        "if (cat == 1):\n",
        "  aum = sueldo * .15\n",
        "  sueldof = aum + sueldo\n",
        "  print(f\"La categoria del trabajador es {cat} y sue sueldo es {sueldof}\")\n",
        "\n",
        "elif (cat == 2): \n",
        "  aum = sueldo * .10\n",
        "  sueldof = aum + sueldo\n",
        "  print(f\"La categoria del trabajador es {cat} y sue sueldo es {sueldof}\")\n",
        "\n",
        "elif (cat == 3):\n",
        "  aum = sueldo * .08\n",
        "  sueldof = aum + sueldo\n",
        "  print(f\"La categoria del trabajador es {cat} y sue sueldo es {sueldof}\")\n",
        "\n",
        "elif (cat == 4):\n",
        "  aum = sueldo * .07\n",
        "  sueldof = aum + sueldo\n",
        "  print(f\"La categoria del trabajador es {cat} y sue sueldo es {sueldof}\")\n",
        "\n",
        "else:\n",
        "  print(\"Solo hay categorias del 1 al 4\")"
      ],
      "execution_count": 14,
      "outputs": [
        {
          "output_type": "stream",
          "text": [
            "¿Cual es su categoria de trabajador? 1\n",
            "¿Cual es el sueldo del trabajador? 1100\n",
            "La categoria del trabajador es 1 y sue sueldo es 1265.0\n"
          ],
          "name": "stdout"
        }
      ]
    }
  ]
}