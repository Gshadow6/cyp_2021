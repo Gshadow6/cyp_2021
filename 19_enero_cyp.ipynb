{
  "nbformat": 4,
  "nbformat_minor": 0,
  "metadata": {
    "colab": {
      "name": "19_enero_cyp.ipynb",
      "provenance": [],
      "authorship_tag": "ABX9TyNHeuC3PxK+kNi3zLcaa25y",
      "include_colab_link": true
    },
    "kernelspec": {
      "name": "python3",
      "display_name": "Python 3"
    }
  },
  "cells": [
    {
      "cell_type": "markdown",
      "metadata": {
        "id": "view-in-github",
        "colab_type": "text"
      },
      "source": [
        "<a href=\"https://colab.research.google.com/github/Gshadow6/cyp_2021/blob/main/19_enero_cyp.ipynb\" target=\"_parent\"><img src=\"https://colab.research.google.com/assets/colab-badge.svg\" alt=\"Open In Colab\"/></a>"
      ]
    },
    {
      "cell_type": "markdown",
      "metadata": {
        "id": "earC6Ek4q91C"
      },
      "source": [
        "#Slicing (Continuacion)\r\n",
        "[inicio : stop : incremento]\r\n",
        "\r\n",
        "Notas:\r\n",
        "1. El stop no esta incluido\r\n",
        "2. El incremento se puede modificar\r\n",
        "3. Soporta indexado alternativo (negativo)\r\n",
        "\r\n"
      ]
    },
    {
      "cell_type": "code",
      "metadata": {
        "colab": {
          "base_uri": "https://localhost:8080/"
        },
        "id": "yZDZuOD0rkyh",
        "outputId": "6cfa2a35-9a4e-4bb1-92d9-3b34b0465983"
      },
      "source": [
        "frase = \"¿Como hacer a la gente mas positiva?, muy facil, has que pierdna un electron\" #anita lava la tina\r\n",
        "frase1= \"AnitalavalatinA\"\r\n",
        "print(frase)\r\n",
        "# imprimir ace de la palabra hacer\r\n",
        "print(frase[7 : 10 : 1])\r\n",
        "\r\n",
        "#valores por defecto\r\n",
        "print(frase[ : : ])\r\n",
        "\r\n",
        "print(len(frase))\r\n",
        "#incremento\r\n",
        "print(frase[ :  : 2 ]) #la frase completa con incremento 2\r\n",
        "print(frase1[ -1 : : -1 ])\r\n",
        "\r\n",
        "nombre=\"Juan José\"\r\n",
        "print(nombre[1::-1])\r\n",
        "\r\n",
        "primer= nombre[ :4: ]\r\n",
        "print(primer)\r\n",
        "\r\n",
        "print(nombre[-9::-1])"
      ],
      "execution_count": 14,
      "outputs": [
        {
          "output_type": "stream",
          "text": [
            "¿Como hacer a la gente mas positiva?, muy facil, has que pierdna un electron\n",
            "ace\n",
            "¿Como hacer a la gente mas positiva?, muy facil, has que pierdna un electron\n",
            "76\n",
            "¿oohcral et a oiia,myfcl a u irn neeto\n",
            "AnitalavalatinA\n",
            "uJ\n",
            "Juan\n",
            "J\n"
          ],
          "name": "stdout"
        }
      ]
    },
    {
      "cell_type": "markdown",
      "metadata": {
        "id": "NoAlD9yDxQ-y"
      },
      "source": [
        "#Metodos de la clase String(str)\r\n",
        "En python todo es un objeto (P. O. O.), eso significa que cada tipo de dato trae consigo métodos (funciones) incluidas.\r\n",
        "\r\n",
        "Para identificar los metodos disponibles se pueden usar una de dos funciones:\r\n",
        "1. dir(str) #Resumen de los metodos de esa clase\r\n",
        "2. help(str) #Informacion completa de los metodos de esa clase"
      ]
    },
    {
      "cell_type": "code",
      "metadata": {
        "colab": {
          "base_uri": "https://localhost:8080/"
        },
        "id": "N3S4ijDsyX5q",
        "outputId": "2bfa6f79-a668-4540-d52d-8f7f752d3049"
      },
      "source": [
        "nombre= \"Juan José\"\r\n",
        "print(nombre)\r\n",
        "print(dir(str))"
      ],
      "execution_count": 15,
      "outputs": [
        {
          "output_type": "stream",
          "text": [
            "Juan José\n",
            "['__add__', '__class__', '__contains__', '__delattr__', '__dir__', '__doc__', '__eq__', '__format__', '__ge__', '__getattribute__', '__getitem__', '__getnewargs__', '__gt__', '__hash__', '__init__', '__init_subclass__', '__iter__', '__le__', '__len__', '__lt__', '__mod__', '__mul__', '__ne__', '__new__', '__reduce__', '__reduce_ex__', '__repr__', '__rmod__', '__rmul__', '__setattr__', '__sizeof__', '__str__', '__subclasshook__', 'capitalize', 'casefold', 'center', 'count', 'encode', 'endswith', 'expandtabs', 'find', 'format', 'format_map', 'index', 'isalnum', 'isalpha', 'isdecimal', 'isdigit', 'isidentifier', 'islower', 'isnumeric', 'isprintable', 'isspace', 'istitle', 'isupper', 'join', 'ljust', 'lower', 'lstrip', 'maketrans', 'partition', 'replace', 'rfind', 'rindex', 'rjust', 'rpartition', 'rsplit', 'rstrip', 'split', 'splitlines', 'startswith', 'strip', 'swapcase', 'title', 'translate', 'upper', 'zfill']\n"
          ],
          "name": "stdout"
        }
      ]
    },
    {
      "cell_type": "markdown",
      "metadata": {
        "id": "nFvjodLZyv65"
      },
      "source": [
        "Los nombres de metodo que inician con doble guion bajo, significa que son métodos privados (P. O. O.), y no tendrias que usarlos como programador consumidor.\r\n",
        "\r\n",
        "Los demas metodos son publicos y de libre uso."
      ]
    },
    {
      "cell_type": "code",
      "metadata": {
        "colab": {
          "base_uri": "https://localhost:8080/"
        },
        "id": "ebw_KtsuzjAt",
        "outputId": "45ea27b0-2147-4a06-c713-581b5ab3cc8a"
      },
      "source": [
        "print(nombre.islower())\r\n",
        "\r\n",
        "nombre= \"CARLOS GERARDO\"\r\n",
        "print(nombre.capitalize())\r\n",
        "\r\n",
        "print(nombre.endswith(\"DO\")) #termina con (\"DO\")?\r\n",
        "print(nombre.replace(\"AR\",\"**\")) #Reemplaza todo los \"AR\" que haya en nombre por \"**\"\r\n",
        "\r\n",
        "print(nombre.replace(\"A\", \"*\", 1))\r\n",
        "print(nombre.lower())#LO pone en minusculas\r\n",
        "print(nombre.upper())#Lo pone en mayusculas\r\n",
        "cancion= \"jose jose, el principie de la cancion\"\r\n",
        "print(cancion.count(\"jose\"))#cuenta \"jose\" en cancion\r\n",
        "\r\n"
      ],
      "execution_count": 27,
      "outputs": [
        {
          "output_type": "stream",
          "text": [
            "False\n",
            "Carlos gerardo\n",
            "True\n",
            "C**LOS GER**DO\n",
            "C*RLOS GERARDO\n",
            "carlos gerardo\n",
            "CARLOS GERARDO\n"
          ],
          "name": "stdout"
        }
      ]
    },
    {
      "cell_type": "code",
      "metadata": {
        "id": "sPIid878z_7z"
      },
      "source": [
        "print(help(str))"
      ],
      "execution_count": null,
      "outputs": []
    },
    {
      "cell_type": "code",
      "metadata": {
        "colab": {
          "base_uri": "https://localhost:8080/"
        },
        "id": "F-I6lRZ67-oV",
        "outputId": "e99505bb-c69f-4e05-f8c8-5e0150b5da7d"
      },
      "source": [
        "# metodos para pricesar String\r\n",
        "\r\n",
        "num = \"  2 , 1 , 3 , 4 , 5 , 45 , 7 \"\r\n",
        "print(num)\r\n",
        "#Como extraigo los numeros de la cadena.\r\n",
        "\"1.- Eliminar los espacios al principio y al final con string()\"\r\n",
        "print(num.strip())\r\n",
        "\r\n",
        "# 2.- separar por comas\r\n",
        "print(num.split(\",\"))\r\n",
        "\r\n",
        "#Con un for e indice, limpiar cadenas de la lista\r\n",
        "for indice in range(len(num)):\r\n",
        "  print(num[indice].strip(), end=\"\")"
      ],
      "execution_count": 43,
      "outputs": [
        {
          "output_type": "stream",
          "text": [
            "  2 , 1 , 3 , 4 , 5 , 45 , 7 \n",
            "2 , 1 , 3 , 4 , 5 , 45 , 7\n",
            "['  2 ', ' 1 ', ' 3 ', ' 4 ', ' 5 ', ' 45 ', ' 7 ']\n",
            "2,1,3,4,5,45,7"
          ],
          "name": "stdout"
        }
      ]
    }
  ]
}