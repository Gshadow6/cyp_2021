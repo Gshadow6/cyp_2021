{
  "nbformat": 4,
  "nbformat_minor": 0,
  "metadata": {
    "colab": {
      "name": "diagrama de flujo 10 nov 2020.ipynb",
      "provenance": [],
      "collapsed_sections": [],
      "authorship_tag": "ABX9TyOoIGQHPqpf0qVyUvWiFU0O",
      "include_colab_link": true
    },
    "kernelspec": {
      "name": "python3",
      "display_name": "Python 3"
    }
  },
  "cells": [
    {
      "cell_type": "markdown",
      "metadata": {
        "id": "view-in-github",
        "colab_type": "text"
      },
      "source": [
        "<a href=\"https://colab.research.google.com/github/Gshadow6/cyp_2021/blob/main/diagrama_de_flujo_12_nov_2020.ipynb\" target=\"_parent\"><img src=\"https://colab.research.google.com/assets/colab-badge.svg\" alt=\"Open In Colab\"/></a>"
      ]
    },
    {
      "cell_type": "code",
      "metadata": {
        "id": "rcUzJZYfKXvU",
        "outputId": "08e7a899-b94c-42cc-e326-38a6d76f0cee",
        "colab": {
          "base_uri": "https://localhost:8080/"
        }
      },
      "source": [
        "#Ejemplo 1\n",
        "def main(): \n",
        "  print(\"hola mundo\") \n",
        "main()\n",
        " "
      ],
      "execution_count": null,
      "outputs": [
        {
          "output_type": "stream",
          "text": [
            "hola mundo\n"
          ],
          "name": "stdout"
        }
      ]
    },
    {
      "cell_type": "code",
      "metadata": {
        "id": "QcPq7d_uNJM5",
        "outputId": "5e9d2d9e-2119-4312-faf4-9db500a33a59",
        "colab": {
          "base_uri": "https://localhost:8080/"
        }
      },
      "source": [
        "#Elemplo 2\n",
        "def main():\n",
        "  a= input(\"ingrese un valor \")\n",
        "  print(a)\n",
        "main()"
      ],
      "execution_count": null,
      "outputs": [
        {
          "output_type": "stream",
          "text": [
            "ingrese un valor5\n",
            "5\n"
          ],
          "name": "stdout"
        }
      ]
    },
    {
      "cell_type": "code",
      "metadata": {
        "id": "l3Ipvc3JP7sF",
        "outputId": "7d9cf972-b700-4b08-9bc0-637f5a530251",
        "colab": {
          "base_uri": "https://localhost:8080/"
        }
      },
      "source": [
        "#Ejemplo 3\n",
        "def main():\n",
        "  a= input(\"ingrese un valor \")\n",
        "  b=int(a)\n",
        "  c=b*2\n",
        "  print(c)\n",
        "main()"
      ],
      "execution_count": null,
      "outputs": [
        {
          "output_type": "stream",
          "text": [
            "ingrese un valor2\n",
            "4\n"
          ],
          "name": "stdout"
        }
      ]
    },
    {
      "cell_type": "code",
      "metadata": {
        "id": "crYY5qOAeHln",
        "outputId": "39cbba95-4ed6-43f6-cc3a-78ceaf1c4723",
        "colab": {
          "base_uri": "https://localhost:8080/"
        }
      },
      "source": [
        "#Ejemplo 7\n",
        "num=int (input(\"ingrese un valor \"))\n",
        "if num >0:\n",
        "  print(\"El numero es positivo\")\n",
        "print(\"El numero es negativo\")\n",
        "print(\"Fin del programa\")"
      ],
      "execution_count": null,
      "outputs": [
        {
          "output_type": "stream",
          "text": [
            "ingrese un valor-1\n",
            "El numero es negativo\n",
            "Fin del programa\n"
          ],
          "name": "stdout"
        }
      ]
    },
    {
      "cell_type": "code",
      "metadata": {
        "id": "vSpAnQVng1iU",
        "outputId": "b8afad8e-d0e8-429c-a874-8ee303efbd11",
        "colab": {
          "base_uri": "https://localhost:8080/"
        }
      },
      "source": [
        "#Ejemplo 8\n",
        "num=int (input(\"ingrese un valor \"))\n",
        "if num >0:\n",
        " print(\"El numero es positivo\")\n",
        "else:\n",
        " print(\"El numero es negativo\")\n",
        "print(\"Fin del programa\")"
      ],
      "execution_count": null,
      "outputs": [
        {
          "output_type": "stream",
          "text": [
            "ingrese un valor -21\n",
            "El numero es negativo\n",
            "Fin del programa\n"
          ],
          "name": "stdout"
        }
      ]
    },
    {
      "cell_type": "code",
      "metadata": {
        "id": "p7KlcMzxhS9H",
        "outputId": "1ca96eff-496f-4c7b-9c78-c192e64f02a3",
        "colab": {
          "base_uri": "https://localhost:8080/"
        }
      },
      "source": [
        "#Ejemplo 9\n",
        "num=int (input(\"ingrese un valor\"))\n",
        "if num >0:\n",
        "  print(\"El numero es positivo\")\n",
        "elif num==0:\n",
        "  print(\"El numero es cero, no es negativo ni positivo\")\n",
        "else: \n",
        "  print(\"El numero es negativo\")\n",
        "print(\"Fin del programa\")"
      ],
      "execution_count": null,
      "outputs": [
        {
          "output_type": "stream",
          "text": [
            "ingrese un valor0\n",
            "El numero es cero, no es negativo ni positivo\n",
            "Fin del programa\n"
          ],
          "name": "stdout"
        }
      ]
    }
  ]
}