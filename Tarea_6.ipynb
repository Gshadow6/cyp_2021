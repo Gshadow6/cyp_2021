{
  "nbformat": 4,
  "nbformat_minor": 0,
  "metadata": {
    "colab": {
      "name": "Tarea_6.ipynb",
      "provenance": [],
      "collapsed_sections": [],
      "authorship_tag": "ABX9TyP6Yy2ZH7LVfaE9O94LIBJ6",
      "include_colab_link": true
    },
    "kernelspec": {
      "name": "python3",
      "display_name": "Python 3"
    }
  },
  "cells": [
    {
      "cell_type": "markdown",
      "metadata": {
        "id": "view-in-github",
        "colab_type": "text"
      },
      "source": [
        "<a href=\"https://colab.research.google.com/github/Gshadow6/cyp_2021/blob/main/Tarea_6.ipynb\" target=\"_parent\"><img src=\"https://colab.research.google.com/assets/colab-badge.svg\" alt=\"Open In Colab\"/></a>"
      ]
    },
    {
      "cell_type": "code",
      "metadata": {
        "colab": {
          "base_uri": "https://localhost:8080/"
        },
        "id": "H0ToMFFHl0wC",
        "outputId": "fc9aa467-25b4-4b29-ae64-652507ff3acd"
      },
      "source": [
        "#problema 3.3\r\n",
        "serie = 0\r\n",
        "n = int(input(\"Ingrese un valor entero para el numero de terminos de la serie \"))\r\n",
        "band = True\r\n",
        "i = 1\r\n",
        "while i <= n:\r\n",
        "  if band == True:\r\n",
        "    serie = serie + (1/i)\r\n",
        "    band = False\r\n",
        "  else:\r\n",
        "    serie = serie - (1/i)\r\n",
        "    band = True\r\n",
        "  print(f\"posicion de la serie {i}: {serie}\")\r\n",
        "  i = i + 1\r\n",
        "\r\n",
        "print(f\"El resultado de la serie es: {serie}\")"
      ],
      "execution_count": null,
      "outputs": [
        {
          "output_type": "stream",
          "text": [
            "Ingrese un valor entero para el numero de terminos de la serie 9\n",
            "posicion de la serie 1: 1.0\n",
            "posicion de la serie 2: 0.5\n",
            "posicion de la serie 3: 0.8333333333333333\n",
            "posicion de la serie 4: 0.5833333333333333\n",
            "posicion de la serie 5: 0.7833333333333332\n",
            "posicion de la serie 6: 0.6166666666666666\n",
            "posicion de la serie 7: 0.7595238095238095\n",
            "posicion de la serie 8: 0.6345238095238095\n",
            "posicion de la serie 9: 0.7456349206349207\n",
            "El resultado de la serie es: 0.7456349206349207\n"
          ],
          "name": "stdout"
        }
      ]
    },
    {
      "cell_type": "code",
      "metadata": {
        "colab": {
          "base_uri": "https://localhost:8080/"
        },
        "id": "QOwtj0qMkpEF",
        "outputId": "4c1ca818-7286-40d4-d925-bf46e75fcbca"
      },
      "source": [
        "#problema 3.4\r\n",
        "nom = 0\r\n",
        "sue = float(input(\"¿Cual es el sueldo del empleado? \"))\r\n",
        "while sue != -1:\r\n",
        "  if sue < 1000:\r\n",
        "    nsue = sue + (sue * .15)\r\n",
        "  else:\r\n",
        "    nsue = sue + (sue *.12)\r\n",
        "  nom = nom + nsue\r\n",
        "  print(f\"El sueldo del empleado es: {nsue}\") \r\n",
        "  sue = float(input(\"¿Cual es el sueldo del empleado? \"))\r\n",
        "print(f\"La nomina de la empresa es: {nom}\")"
      ],
      "execution_count": null,
      "outputs": [
        {
          "output_type": "stream",
          "text": [
            "¿Cual es el sueldo del empleado? 855\n",
            "El sueldo del empleado es: 983.25\n",
            "¿Cual es el sueldo del empleado? 760.32\n",
            "El sueldo del empleado es: 874.368\n",
            "¿Cual es el sueldo del empleado? 1100.20\n",
            "El sueldo del empleado es: 1232.2240000000002\n",
            "¿Cual es el sueldo del empleado? 614\n",
            "El sueldo del empleado es: 706.1\n",
            "¿Cual es el sueldo del empleado? 2600\n",
            "El sueldo del empleado es: 2912.0\n",
            "¿Cual es el sueldo del empleado? 817.5\n",
            "El sueldo del empleado es: 940.125\n",
            "¿Cual es el sueldo del empleado? 1280.3\n",
            "El sueldo del empleado es: 1433.936\n",
            "¿Cual es el sueldo del empleado? 687\n",
            "El sueldo del empleado es: 790.05\n",
            "¿Cual es el sueldo del empleado? -1\n",
            "La nomina de la empresa es: 9872.053\n"
          ],
          "name": "stdout"
        }
      ]
    },
    {
      "cell_type": "code",
      "metadata": {
        "colab": {
          "base_uri": "https://localhost:8080/"
        },
        "id": "bfN94KcUmvVN",
        "outputId": "e121b838-7ff8-4cf4-a1ee-0dcc69d5980f"
      },
      "source": [
        "#problema 3.5\r\n",
        "sumotr = 0\r\n",
        "sumpos = 0\r\n",
        "cuepos = 0\r\n",
        "n = int(input(\"Introduzca la cantidad de numeros: \"))\r\n",
        "i = 1\r\n",
        "while i <= n:\r\n",
        "  num = int(input(\"Introduzca un numero entero \"))\r\n",
        "  if num > 0:\r\n",
        "    sumpos = sumpos + num\r\n",
        "    cuepos = cuepos + 1\r\n",
        "  else:\r\n",
        "    sumotr = sumotr + num\r\n",
        "  i = i + 1\r\n",
        "progen = (sumpos + sumotr)/n\r\n",
        "propos = sumpos/cuepos\r\n",
        "print(f\"Los numeros positivos: {cuepos}\")\r\n",
        "print(f\"El promedio de los numeros positivos es: {propos}\")\r\n",
        "print(f\"El promedio de los numeros: {progen}\") "
      ],
      "execution_count": null,
      "outputs": [
        {
          "output_type": "stream",
          "text": [
            "Introduzca la cantidad de numeros: 20\n",
            "Introduzca un numero entero 7\n",
            "Introduzca un numero entero 12\n",
            "Introduzca un numero entero 0\n",
            "Introduzca un numero entero 6\n",
            "Introduzca un numero entero 11\n",
            "Introduzca un numero entero -3\n",
            "Introduzca un numero entero 17\n",
            "Introduzca un numero entero 12\n",
            "Introduzca un numero entero 19\n",
            "Introduzca un numero entero 0\n",
            "Introduzca un numero entero 11\n",
            "Introduzca un numero entero 4\n",
            "Introduzca un numero entero -5\n",
            "Introduzca un numero entero -1\n",
            "Introduzca un numero entero 0\n",
            "Introduzca un numero entero 3\n",
            "Introduzca un numero entero 24\n",
            "Introduzca un numero entero 0\n",
            "Introduzca un numero entero 3\n",
            "Introduzca un numero entero -16\n",
            "Los numeros positivos: 12\n",
            "El promedio de los numeros positivos es: 10.75\n",
            "El promedio de los numeros: 5.2\n"
          ],
          "name": "stdout"
        }
      ]
    },
    {
      "cell_type": "code",
      "metadata": {
        "colab": {
          "base_uri": "https://localhost:8080/"
        },
        "id": "eqJP3Z3TrTQp",
        "outputId": "be7f73f2-d551-44b4-e7bb-269062b9a7f5"
      },
      "source": [
        "#problema 3.6\r\n",
        "may = -1000000\r\n",
        "men = 100000\r\n",
        "i = 0\r\n",
        "n = int(input(\"Introduzca la cantidad de numeros: \"))\r\n",
        "i = i + 1\r\n",
        "print(f\"{i} <= {n}\")\r\n",
        "while i <= n:\r\n",
        "  num = int(input(\"Introduce un numero entero \"))\r\n",
        "  if num > may:\r\n",
        "    may = num\r\n",
        "  if num < men:\r\n",
        "    men = num \r\n",
        "  i = i + 1\r\n",
        "print(f\"El valor mayor de los dados es: {may}\")\r\n",
        "print(f\"El valor menor de los dados es: {men}\")"
      ],
      "execution_count": null,
      "outputs": [
        {
          "output_type": "stream",
          "text": [
            "Introduzca la cantidad de numeros: 12\n",
            "1 <= 12\n",
            "Introduce un numero entero 170\n",
            "Introduce un numero entero 44\n",
            "Introduce un numero entero 815\n",
            "Introduce un numero entero 1700\n",
            "Introduce un numero entero 38\n",
            "Introduce un numero entero 140\n",
            "Introduce un numero entero 380\n",
            "Introduce un numero entero 1020\n",
            "Introduce un numero entero 116\n",
            "Introduce un numero entero 14\n",
            "Introduce un numero entero 730\n",
            "Introduce un numero entero 960\n",
            "El valor mayor de los dados es: 1700\n",
            "El valor menor de los dados es: 14\n"
          ],
          "name": "stdout"
        }
      ]
    },
    {
      "cell_type": "code",
      "metadata": {
        "id": "5myC37HCw64L",
        "colab": {
          "base_uri": "https://localhost:8080/"
        },
        "outputId": "9dce837c-accd-4b5d-a453-ef4c2fe79af9"
      },
      "source": [
        "#problema 3.7\r\n",
        "med = 0\r\n",
        "chi = 0\r\n",
        "gran = 0\r\n",
        "i = 1\r\n",
        "n = n = int(input(\"Introduzca la cantidad de ventas: \"))\r\n",
        "while i <= n:\r\n",
        "  v = float(input(\"Introduzca la cifra de la venta \"))\r\n",
        "  if v <= 200:\r\n",
        "    chi = chi + 1\r\n",
        "  elif v < 400:\r\n",
        "    med = med + 1\r\n",
        "  else:\r\n",
        "    gran = gran + 1\r\n",
        "  i = i + 1\r\n",
        "print(f\"Las ventas menores a 200 son: {chi}\")\r\n",
        "print(f\"Las ventas mayores a 200 pero menores a 400 son: {med}\")\r\n",
        "print(f\"Las ventas mayores a 400 son: {gran}\")"
      ],
      "execution_count": null,
      "outputs": [
        {
          "output_type": "stream",
          "text": [
            "Introduzca la cantidad de ventas: 12\n",
            "Introduzca la cifra de la venta 180.25\n",
            "Introduzca la cifra de la venta 470.3\n",
            "Introduzca la cifra de la venta 150.25\n",
            "Introduzca la cifra de la venta 88.6\n",
            "Introduzca la cifra de la venta 230.15\n",
            "Introduzca la cifra de la venta 170.2\n",
            "Introduzca la cifra de la venta 40.3\n",
            "Introduzca la cifra de la venta 201.3\n",
            "Introduzca la cifra de la venta 60.32\n",
            "Introduzca la cifra de la venta 280.3\n",
            "Introduzca la cifra de la venta 15.7\n",
            "Introduzca la cifra de la venta 140.2\n",
            "Las ventas menores a 200 son: 8\n",
            "Las ventas mayores a 200 pero menores a 400 son: 3\n",
            "Las ventas mayores a 400 son: 1\n"
          ],
          "name": "stdout"
        }
      ]
    },
    {
      "cell_type": "code",
      "metadata": {
        "colab": {
          "base_uri": "https://localhost:8080/"
        },
        "id": "L8a8O39MIQ45",
        "outputId": "7200697d-459f-4915-b2cf-4685ec0e3421"
      },
      "source": [
        "#problema 3.8\r\n",
        "num = int(input(\"Introduzca un numero \"))\r\n",
        "if num > 0:\r\n",
        "  while num != 1:\r\n",
        "    print(num)\r\n",
        "    if ((-1)**num) > 0:\r\n",
        "      num = num / 2\r\n",
        "    else:\r\n",
        "      num = (num * 3) + 1\r\n",
        "  print(num)\r\n",
        "else:\r\n",
        "  print(\"El numero tiene que ser positivo\")"
      ],
      "execution_count": null,
      "outputs": [
        {
          "output_type": "stream",
          "text": [
            "Introduzca un numero 25\n",
            "25\n",
            "76\n",
            "38.0\n",
            "19.0\n",
            "58.0\n",
            "29.0\n",
            "88.0\n",
            "44.0\n",
            "22.0\n",
            "11.0\n",
            "34.0\n",
            "17.0\n",
            "52.0\n",
            "26.0\n",
            "13.0\n",
            "40.0\n",
            "20.0\n",
            "10.0\n",
            "5.0\n",
            "16.0\n",
            "8.0\n",
            "4.0\n",
            "2.0\n",
            "1.0\n"
          ],
          "name": "stdout"
        }
      ]
    },
    {
      "cell_type": "code",
      "metadata": {
        "colab": {
          "base_uri": "https://localhost:8080/"
        },
        "id": "A6pSizZylDDY",
        "outputId": "ab2e5018-02fa-4bed-aa1b-c4d9f986ffb3"
      },
      "source": [
        "#problema 3.9\r\n",
        "serie = 0\r\n",
        "n = int(input(\"Indica un numero entero para empezar la serie \")) \r\n",
        "i = 1\r\n",
        "while i <= n:\r\n",
        "  serie = serie + i**i\r\n",
        "  i = i + 1\r\n",
        "print(f\"La suma de la serie es: {serie}\")"
      ],
      "execution_count": null,
      "outputs": [
        {
          "output_type": "stream",
          "text": [
            "Indica un numero entero para empezar la serie 8\n",
            "La suma de la serie es: 17650828\n"
          ],
          "name": "stdout"
        }
      ]
    },
    {
      "cell_type": "code",
      "metadata": {
        "colab": {
          "base_uri": "https://localhost:8080/"
        },
        "id": "5K7A0kS2yqic",
        "outputId": "8baaddf0-81fa-4e02-82bc-6c124c04ca5b"
      },
      "source": [
        "#problema 3.10\r\n",
        "f = 0\r\n",
        "pri = 0\r\n",
        "seg = 1\r\n",
        "i = 3\r\n",
        "f = int(input(\"Introduzca la posicion que quiere saber de la secuando fibonacci \"))\r\n",
        "while i <= f:\r\n",
        "  sig = pri + seg\r\n",
        "  pri = seg\r\n",
        "  seg = sig \r\n",
        "  i = i + 1\r\n",
        "print(f\"La posicion {f} es {sig}\")"
      ],
      "execution_count": null,
      "outputs": [
        {
          "output_type": "stream",
          "text": [
            "Introduzca la posicion que quiere saber de la secuando fibonacci 7\n",
            "La posicion 7 es 8\n"
          ],
          "name": "stdout"
        }
      ]
    },
    {
      "cell_type": "code",
      "metadata": {
        "colab": {
          "base_uri": "https://localhost:8080/"
        },
        "id": "he5ItxvOtzNa",
        "outputId": "f54b3d24-908c-4edd-9017-cf1c3140bdc6"
      },
      "source": [
        "#problema 3.11\r\n",
        "can1 = 0\r\n",
        "can2 = 0\r\n",
        "can3 = 0\r\n",
        "can4 = 0\r\n",
        "v = int(input(\"Elija un candidato eligiendo del 1 al 4 \"))\r\n",
        "while v > 0:\r\n",
        "  if v == 1:\r\n",
        "    can1 = can1 + 1\r\n",
        "  elif v == 2:\r\n",
        "    can2 = can2 + 1\r\n",
        "  elif v == 3:\r\n",
        "    can3 = can3 + 1\r\n",
        "  elif v == 4:\r\n",
        "    can4 = can4 + 1\r\n",
        "  v = int(input(\"Elija un candidato eligiendo del 1 al 4 \"))\r\n",
        "sumv = can1 + can2 + can3 + can4\r\n",
        "por1 = (can1 / sumv) * 100\r\n",
        "por2 = (can2 / sumv) * 100\r\n",
        "por3 = (can3 / sumv) * 100\r\n",
        "por4 = (can4 / sumv) * 100\r\n",
        "print(f\"El canndidato 1 tuvo {can1} votos y su porcentaje es {por1}\")\r\n",
        "print(f\"El canndidato 2 tuvo {can2} votos y su porcentaje es {por2}\")\r\n",
        "print(f\"El canndidato 3 tuvo {can3} votos y su porcentaje es {por3}\")\r\n",
        "print(f\"El canndidato 4 tuvo {can4} votos y su porcentaje es {por4}\")\r\n",
        "print(f\"Votaron {sumv} personas\")"
      ],
      "execution_count": null,
      "outputs": [
        {
          "output_type": "stream",
          "text": [
            "Elija un candidato eligiendo del 1 al 4 1\n",
            "Elija un candidato eligiendo del 1 al 4 1\n",
            "Elija un candidato eligiendo del 1 al 4 2\n",
            "Elija un candidato eligiendo del 1 al 4 1\n",
            "Elija un candidato eligiendo del 1 al 4 3\n",
            "Elija un candidato eligiendo del 1 al 4 1\n",
            "Elija un candidato eligiendo del 1 al 4 1\n",
            "Elija un candidato eligiendo del 1 al 4 2\n",
            "Elija un candidato eligiendo del 1 al 4 4\n",
            "Elija un candidato eligiendo del 1 al 4 4\n",
            "Elija un candidato eligiendo del 1 al 4 3\n",
            "Elija un candidato eligiendo del 1 al 4 1\n",
            "Elija un candidato eligiendo del 1 al 4 1\n",
            "Elija un candidato eligiendo del 1 al 4 2\n",
            "Elija un candidato eligiendo del 1 al 4 3\n",
            "Elija un candidato eligiendo del 1 al 4 1\n",
            "Elija un candidato eligiendo del 1 al 4 4\n",
            "Elija un candidato eligiendo del 1 al 4 1\n",
            "Elija un candidato eligiendo del 1 al 4 2\n",
            "Elija un candidato eligiendo del 1 al 4 1\n",
            "Elija un candidato eligiendo del 1 al 4 2\n",
            "Elija un candidato eligiendo del 1 al 4 4\n",
            "Elija un candidato eligiendo del 1 al 4 4\n",
            "Elija un candidato eligiendo del 1 al 4 2\n",
            "Elija un candidato eligiendo del 1 al 4 1\n",
            "Elija un candidato eligiendo del 1 al 4 0\n",
            "El canndidato 1 tuvo 11 votos y su porcentaje es 44.0\n",
            "El canndidato 2 tuvo 6 votos y su porcentaje es 24.0\n",
            "El canndidato 3 tuvo 3 votos y su porcentaje es 12.0\n",
            "El canndidato 4 tuvo 5 votos y su porcentaje es 20.0\n",
            "Votaron 25 personas\n"
          ],
          "name": "stdout"
        }
      ]
    },
    {
      "cell_type": "code",
      "metadata": {
        "id": "sS7t-_MwwdgA",
        "colab": {
          "base_uri": "https://localhost:8080/"
        },
        "outputId": "fc517051-03d0-4382-b85b-a55905a47ff1"
      },
      "source": [
        "#problema 3.12\r\n",
        "mays = 0\r\n",
        "n = int(input(\"Indica el numero de empleados de la empresa \")) \r\n",
        "i = 1\r\n",
        "while i <= n:\r\n",
        "  numemp = int(input(\"Introduce el numero del empleado \"))\r\n",
        "  s = float(input(\"Introduce el sueldo del empleado \"))\r\n",
        "  if s > mays:\r\n",
        "    mays = s \r\n",
        "    mayn = numemp\r\n",
        "  i = i + 1\r\n",
        "print(f\"El empleado {mayn} tiene el sueldo mayor: {mays}\")"
      ],
      "execution_count": null,
      "outputs": [
        {
          "output_type": "stream",
          "text": [
            "Indica el numero de empleados de la empresa 6\n",
            "Introduce el numero del empleado 1235\n",
            "Introduce el sueldo del empleado 2580\n",
            "Introduce el numero del empleado 1260\n",
            "Introduce el sueldo del empleado 1400\n",
            "Introduce el numero del empleado 1325\n",
            "Introduce el sueldo del empleado 3600\n",
            "Introduce el numero del empleado 1418\n",
            "Introduce el sueldo del empleado 2720\n",
            "Introduce el numero del empleado 1650\n",
            "Introduce el sueldo del empleado 4120\n",
            "Introduce el numero del empleado 1717\n",
            "Introduce el sueldo del empleado 1950\n",
            "El empleado 1650 tien el sueldo mayor: 4120.0\n"
          ],
          "name": "stdout"
        }
      ]
    },
    {
      "cell_type": "code",
      "metadata": {
        "colab": {
          "base_uri": "https://localhost:8080/"
        },
        "id": "hIReSiQza6S1",
        "outputId": "19334443-4384-48a0-87d1-487e1effd92d"
      },
      "source": [
        "#problema 3.13\r\n",
        "arsur = 0\r\n",
        "arnor = 0\r\n",
        "arcen = 0\r\n",
        "mersur = 50000\r\n",
        "i = 1\r\n",
        "while i <= 12:\r\n",
        "  rsur = float(input(\"Introduce las lluvias caidas en el sur \"))\r\n",
        "  rnor = float(input(\"Introduce las lluvias caidas en el norte \"))\r\n",
        "  rcen = float(input(\"Introduce las lluvias caidas en el centro \"))\r\n",
        "  arnor = arnor + rnor \r\n",
        "  arcen = arcen + rcen\r\n",
        "  arsur = arsur + rsur\r\n",
        "  if rsur < mersur:\r\n",
        "    mersur = rsur\r\n",
        "    mes = i \r\n",
        "  i = i + 1\r\n",
        "prorcen = arcen / 12\r\n",
        "print(f\"El promedio de las lluvias de la region centro es {prorcen}\")\r\n",
        "print(f\"El mes con menor lluvias en la region sur es el {mes} con {mersur} lluvias caidas\")\r\n",
        "if arnor > arcen:\r\n",
        "  if arnor > arsur:\r\n",
        "    print(f\"La region con mayor lluvia es la region norte\")\r\n",
        "  else:\r\n",
        "    print(f\"La region con mayor lluvia es la region sur\")\r\n",
        "elif arcen > arsur:\r\n",
        "  print(f\"La region con mayor lluvia es la region centro\")\r\n",
        "else:\r\n",
        "  print(f\"La region con mayor lluvia es la region sur\") "
      ],
      "execution_count": null,
      "outputs": [
        {
          "output_type": "stream",
          "text": [
            "Introduce las lluvias caidas en el sur 170\n",
            "Introduce las lluvias caidas en el norte 80\n",
            "Introduce las lluvias caidas en el centro 70\n",
            "Introduce las lluvias caidas en el sur 100\n",
            "Introduce las lluvias caidas en el norte 60\n",
            "Introduce las lluvias caidas en el centro 85\n",
            "Introduce las lluvias caidas en el sur 185\n",
            "Introduce las lluvias caidas en el norte 120\n",
            "Introduce las lluvias caidas en el centro 100\n",
            "Introduce las lluvias caidas en el sur 88\n",
            "Introduce las lluvias caidas en el norte 90\n",
            "Introduce las lluvias caidas en el centro 100\n",
            "Introduce las lluvias caidas en el sur 80\n",
            "Introduce las lluvias caidas en el norte 70\n",
            "Introduce las lluvias caidas en el centro 82\n",
            "Introduce las lluvias caidas en el sur 122\n",
            "Introduce las lluvias caidas en el norte 150\n",
            "Introduce las lluvias caidas en el centro 130\n",
            "Introduce las lluvias caidas en el sur 67\n",
            "Introduce las lluvias caidas en el norte 100\n",
            "Introduce las lluvias caidas en el centro 95\n",
            "Introduce las lluvias caidas en el sur 55\n",
            "Introduce las lluvias caidas en el norte 47\n",
            "Introduce las lluvias caidas en el centro 38\n",
            "Introduce las lluvias caidas en el sur 110\n",
            "Introduce las lluvias caidas en el norte 95\n",
            "Introduce las lluvias caidas en el centro 115\n",
            "Introduce las lluvias caidas en el sur 83\n",
            "Introduce las lluvias caidas en el norte 73\n",
            "Introduce las lluvias caidas en el centro 62\n",
            "Introduce las lluvias caidas en el sur 107\n",
            "Introduce las lluvias caidas en el norte 100\n",
            "Introduce las lluvias caidas en el centro 87\n",
            "Introduce las lluvias caidas en el sur 148\n",
            "Introduce las lluvias caidas en el norte 130\n",
            "Introduce las lluvias caidas en el centro 103\n",
            "El promedio de las lluvias de la region centro es 88.91666666666667\n",
            "El mes con menor lluvias en la region sur es el 8 con 55.0 lluvias caidas\n",
            "La region con mayor lluvia es la region sur\n"
          ],
          "name": "stdout"
        }
      ]
    },
    {
      "cell_type": "code",
      "metadata": {
        "colab": {
          "base_uri": "https://localhost:8080/"
        },
        "id": "R_sJXDRhjTeL",
        "outputId": "a9700d90-2243-43b9-eabe-5b61378035b5"
      },
      "source": [
        "#problema 3.14\r\n",
        "ap1 = 0\r\n",
        "ap2 = 0\r\n",
        "ap3 = 0\r\n",
        "ap4 = 0\r\n",
        "ap5 = 0\r\n",
        "recau = 0\r\n",
        "p1 = float(input(\"El precio de la entrada 1 es: \"))\r\n",
        "p2 = float(input(\"El precio de la entrada 2 es: \"))\r\n",
        "p3 = float(input(\"El precio de la entrada 3 es: \"))\r\n",
        "p4 = float(input(\"El precio de la entrada 4 es: \"))\r\n",
        "p5 = float(input(\"El precio de la entrada 5 es: \"))\r\n",
        "clave = int(input(\"¿Que entrada es la que quiere? \"))\r\n",
        "cant = int(input(\"¿Cuantas entradas quiere? \"))\r\n",
        "while clave != -1 and cant != -1:\r\n",
        "  if clave == 1:\r\n",
        "    pre = p1 * cant \r\n",
        "    ap1 = ap1 + cant\r\n",
        "  elif clave == 2:\r\n",
        "    pre = p2 * cant \r\n",
        "    ap2 = ap2 + cant\r\n",
        "  elif clave == 3:\r\n",
        "    pre = p3 * cant \r\n",
        "    ap3 = ap3 + cant\r\n",
        "  elif clave == 4:\r\n",
        "    pre = p4 * cant \r\n",
        "    ap4 = ap4 + cant\r\n",
        "  elif clave == 5:\r\n",
        "    pre = p5 * cant \r\n",
        "    ap5 = ap5 + cant\r\n",
        "  else:\r\n",
        "    print(\"Solo hay entradas del 1 al 5\")\r\n",
        "  print(f\"El precio total de {cant} entradas tipo {clave} es {pre}\")\r\n",
        "  recau = recau + pre\r\n",
        "  clave = int(input(\"¿Que entrada es la que quiere? \"))\r\n",
        "  cant = int(input(\"¿Cuantas entradas quiere? \"))\r\n",
        "print(f\"La cantidad de entrada tipo 1: {ap1}\")\r\n",
        "print(f\"La cantidad de entrada tipo 2: {ap2}\")\r\n",
        "print(f\"La cantidad de entrada tipo 3: {ap3}\")\r\n",
        "print(f\"La cantidad de entrada tipo 4: {ap4}\")\r\n",
        "print(f\"La cantidad de entrada tipo 5: {ap5}\")\r\n",
        "print(f\"La recaudacion del estadio fue: {recau}\")"
      ],
      "execution_count": null,
      "outputs": [
        {
          "output_type": "stream",
          "text": [
            "El precio de la entrada 1 es: 7.25\n",
            "El precio de la entrada 2 es: 15.8\n",
            "El precio de la entrada 3 es: 25\n",
            "El precio de la entrada 4 es: 50\n",
            "El precio de la entrada 5 es: 75\n",
            "¿Que entrada es la que quiere? 2\n",
            "¿Cuantas entradas quiere? 3\n",
            "El precio total de 3 entradas tipo 2 es 47.400000000000006\n",
            "¿Que entrada es la que quiere? 3\n",
            "¿Cuantas entradas quiere? 8\n",
            "El precio total de 8 entradas tipo 3 es 200.0\n",
            "¿Que entrada es la que quiere? 2\n",
            "¿Cuantas entradas quiere? 4\n",
            "El precio total de 4 entradas tipo 2 es 63.2\n",
            "¿Que entrada es la que quiere? 1\n",
            "¿Cuantas entradas quiere? 6\n",
            "El precio total de 6 entradas tipo 1 es 43.5\n",
            "¿Que entrada es la que quiere? 4\n",
            "¿Cuantas entradas quiere? 5\n",
            "El precio total de 5 entradas tipo 4 es 250.0\n",
            "¿Que entrada es la que quiere? 1\n",
            "¿Cuantas entradas quiere? 12\n",
            "El precio total de 12 entradas tipo 1 es 87.0\n",
            "¿Que entrada es la que quiere? 2\n",
            "¿Cuantas entradas quiere? 8\n",
            "El precio total de 8 entradas tipo 2 es 126.4\n",
            "¿Que entrada es la que quiere? 5\n",
            "¿Cuantas entradas quiere? 3\n",
            "El precio total de 3 entradas tipo 5 es 225.0\n",
            "¿Que entrada es la que quiere? 2\n",
            "¿Cuantas entradas quiere? 7\n",
            "El precio total de 7 entradas tipo 2 es 110.60000000000001\n",
            "¿Que entrada es la que quiere? 3\n",
            "¿Cuantas entradas quiere? 14\n",
            "El precio total de 14 entradas tipo 3 es 350.0\n",
            "¿Que entrada es la que quiere? 4\n",
            "¿Cuantas entradas quiere? 1\n",
            "El precio total de 1 entradas tipo 4 es 50.0\n",
            "¿Que entrada es la que quiere? 2\n",
            "¿Cuantas entradas quiere? 11\n",
            "El precio total de 11 entradas tipo 2 es 173.8\n",
            "¿Que entrada es la que quiere? 4\n",
            "¿Cuantas entradas quiere? 9\n",
            "El precio total de 9 entradas tipo 4 es 450.0\n",
            "¿Que entrada es la que quiere? 5\n",
            "¿Cuantas entradas quiere? 7\n",
            "El precio total de 7 entradas tipo 5 es 525.0\n",
            "¿Que entrada es la que quiere? 1\n",
            "¿Cuantas entradas quiere? 23\n",
            "El precio total de 23 entradas tipo 1 es 166.75\n",
            "¿Que entrada es la que quiere? 1\n",
            "¿Cuantas entradas quiere? 18\n",
            "El precio total de 18 entradas tipo 1 es 130.5\n",
            "¿Que entrada es la que quiere? 3\n",
            "¿Cuantas entradas quiere? 4\n",
            "El precio total de 4 entradas tipo 3 es 100.0\n",
            "¿Que entrada es la que quiere? -1\n",
            "¿Cuantas entradas quiere? -1\n",
            "La cantidad de entrada tipo 1: 59\n",
            "La cantidad de entrada tipo 2: 33\n",
            "La cantidad de entrada tipo 3: 26\n",
            "La cantidad de entrada tipo 4: 15\n",
            "La cantidad de entrada tipo 5: 10\n",
            "La recaudacion del estadio fue: 3099.1499999999996\n"
          ],
          "name": "stdout"
        }
      ]
    },
    {
      "cell_type": "code",
      "metadata": {
        "colab": {
          "base_uri": "https://localhost:8080/"
        },
        "id": "OPTnRgDYrF1Z",
        "outputId": "683325f0-691e-4b99-e19b-8d28cee9344f"
      },
      "source": [
        "#problema 3.15\r\n",
        "cl = 0\r\n",
        "cuenta = 0\r\n",
        "tipo = str(input(\"¿Su llamada sera internacional, nacional y local? Digite solo su primera letra (I, N y L) \"))\r\n",
        "dur = int(input(\"¿Cual fue la duracion de la llamada? \"))\r\n",
        "while tipo != 'X' and dur != -1:\r\n",
        "  if tipo == 'I':\r\n",
        "    if dur > 3:\r\n",
        "      costo = 7.59 + ((dur - 3) * 3.03)\r\n",
        "    else:\r\n",
        "      costo = 7.59\r\n",
        "  elif tipo == 'N':\r\n",
        "    if dur > 3:\r\n",
        "      costo = 1.20 + ((dur - 3) * 0.48)\r\n",
        "    else:\r\n",
        "      costo = 1.20 \r\n",
        "  elif tipo == 'L':\r\n",
        "    cl = cl + 1\r\n",
        "    if cl > 50:\r\n",
        "      costo = 0.60\r\n",
        "    else:\r\n",
        "      costo = 0\r\n",
        "  else:\r\n",
        "    print(\"Solo hay 3 tipos de llamadas\" )\r\n",
        "  print(f\"El costo de la llamada fue {costo}\")\r\n",
        "  cuenta = cuenta + costo \r\n",
        "  tipo = str(input(\"¿Su llamada sera internacional, nacional y local? Digite solo su primera letra (I, N y L) \"))\r\n",
        "  dur = int(input(\"¿Cual fue la duracion de la llamada? \"))\r\n",
        "print(f\"El costo total de las llamadas es {cuenta}\")"
      ],
      "execution_count": null,
      "outputs": [
        {
          "output_type": "stream",
          "text": [
            "¿Su llamada sera internacional, nacional y local? Digite solo su primera letra (I, N y L) I\n",
            "¿Cual fue la duracion de la llamada? 7\n",
            "El costo de la llamada fue 19.71\n",
            "¿Su llamada sera internacional, nacional y local? Digite solo su primera letra (I, N y L) N\n",
            "¿Cual fue la duracion de la llamada? 6\n",
            "El costo de la llamada fue 2.6399999999999997\n",
            "¿Su llamada sera internacional, nacional y local? Digite solo su primera letra (I, N y L) N\n",
            "¿Cual fue la duracion de la llamada? 12\n",
            "El costo de la llamada fue 5.5200000000000005\n",
            "¿Su llamada sera internacional, nacional y local? Digite solo su primera letra (I, N y L) N\n",
            "¿Cual fue la duracion de la llamada? 16\n",
            "El costo de la llamada fue 7.44\n",
            "¿Su llamada sera internacional, nacional y local? Digite solo su primera letra (I, N y L) I\n",
            "¿Cual fue la duracion de la llamada? 11\n",
            "El costo de la llamada fue 31.83\n",
            "¿Su llamada sera internacional, nacional y local? Digite solo su primera letra (I, N y L) X\n",
            "¿Cual fue la duracion de la llamada? -1\n",
            "El costo total de las llamadas es 67.14\n"
          ],
          "name": "stdout"
        }
      ]
    },
    {
      "cell_type": "code",
      "metadata": {
        "id": "M22plmVqwQOf",
        "colab": {
          "base_uri": "https://localhost:8080/"
        },
        "outputId": "677739e2-fa8a-4bf7-f0c2-0c89780947e5"
      },
      "source": [
        "#problema 3.16\r\n",
        "tip1 = 0\r\n",
        "tip2 = 0\r\n",
        "tip3 = 0\r\n",
        "tip4 = 0\r\n",
        "tip5 = 0\r\n",
        "mctip2 = 0\r\n",
        "i = 1\r\n",
        "n = int(input(\"¿Cuantos años duraron los vinos? \"))\r\n",
        "while i <= n:\r\n",
        "  j = 1\r\n",
        "  totvin = 0\r\n",
        "  while j <= 5:\r\n",
        "    v = float(input(\"¿Cual es la cantidad de litros producidos por un litro? \"))\r\n",
        "    totvin = totvin + v\r\n",
        "    if j == 1:\r\n",
        "      tip1 = tip1 + v\r\n",
        "    elif j == 2:\r\n",
        "      tip2 = tip2 + v\r\n",
        "      if v > mctip2:\r\n",
        "        mctip2 = v\r\n",
        "        año = 1\r\n",
        "    elif j == 3:\r\n",
        "      tip3 = tip3 + v \r\n",
        "      if v == 0:\r\n",
        "        print(f\"El año {i} no se producio vino tipo 3\")\r\n",
        "    elif j == 4:\r\n",
        "      tip4 = tip4 + v\r\n",
        "    elif j == 5:\r\n",
        "      tip5 = tip5 + v\r\n",
        "    else:\r\n",
        "      print (\"Solo hay 5 tipos de vino\")\r\n",
        "    j = j + 1\r\n",
        "  print(f\"El total de litros de vino producidos por año es {totvin}\")\r\n",
        "  i = i + 1\r\n",
        "print(f\"El total del vino de tipo 1 es {tip1}\")\r\n",
        "print(f\"El total del vino de tipo 2 es {tip2}\")\r\n",
        "print(f\"El total del vino de tipo 3 es {tip3}\")\r\n",
        "print(f\"El total del vino de tipo 4 es {tip4}\")\r\n",
        "print(f\"El total del vino de tipo 5 es {tip5}\")\r\n",
        "print(f\"En el año {año} se produjeron la mayor cantidad de vino tipo 2: {mctip2} lts\")"
      ],
      "execution_count": null,
      "outputs": [
        {
          "output_type": "stream",
          "text": [
            "¿Cuantos años duraron los vinos? 2\n",
            "¿Cual es la cantidad de litros producidos por un litro? 10\n",
            "¿Cual es la cantidad de litros producidos por un litro? 12\n",
            "¿Cual es la cantidad de litros producidos por un litro? 15\n",
            "¿Cual es la cantidad de litros producidos por un litro? 14\n",
            "¿Cual es la cantidad de litros producidos por un litro? 18\n",
            "El total de litros de vino producidos por año es 69.0\n",
            "¿Cual es la cantidad de litros producidos por un litro? 20\n",
            "¿Cual es la cantidad de litros producidos por un litro? 8\n",
            "¿Cual es la cantidad de litros producidos por un litro? 3\n",
            "¿Cual es la cantidad de litros producidos por un litro? 4\n",
            "¿Cual es la cantidad de litros producidos por un litro? 9\n",
            "El total de litros de vino producidos por año es 44.0\n",
            "El total del vino de tipo 1 es 30.0\n",
            "El total del vino de tipo 2 es 20.0\n",
            "El total del vino de tipo 3 es 18.0\n",
            "El total del vino de tipo 4 es 18.0\n",
            "El total del vino de tipo 5 es 27.0\n",
            "En el año 1 se produjeron la mayor cantidad de vino tipo 2: 12.0 lts\n"
          ],
          "name": "stdout"
        }
      ]
    },
    {
      "cell_type": "code",
      "metadata": {
        "colab": {
          "base_uri": "https://localhost:8080/"
        },
        "id": "9KLV_bebXwRi",
        "outputId": "bfdd7bdc-97b7-4656-8cc2-117e32ed0b29"
      },
      "source": [
        "#problema 3.17\r\n",
        "i = 3\r\n",
        "sp = 0\r\n",
        "m = int(input(\"Ingresa el limite de numeros \"))\r\n",
        "if m >= 1:\r\n",
        "  sp = sp + 1\r\n",
        "  print(f\"Numero primo: {1}\")\r\n",
        "  if m >= 2:\r\n",
        "    sp = sp + 1\r\n",
        "    print(f\"Numero primo: {2}\")\r\n",
        "while i <= m:\r\n",
        "  band = v\r\n",
        "  j = 3\r\n",
        "  if j < (1 // 2) and band == v:\r\n",
        "     if (i % j) == 0:\r\n",
        "       band = f\r\n",
        "     j = j + 2\r\n",
        "  else:\r\n",
        "    if band == v:\r\n",
        "      print(f\"Numero primo: {i}\")\r\n",
        "      sp = sp + 1\r\n",
        "    i = i + 2\r\n",
        "print(f\"Entre 1 y {m} hay {sp} numeros primos\")"
      ],
      "execution_count": null,
      "outputs": [
        {
          "output_type": "stream",
          "text": [
            "Ingresa el limite de numeros 5\n",
            "Numero primo: 1\n",
            "Numero primo: 2\n",
            "Numero primo: 3\n",
            "Numero primo: 5\n",
            "Entre 1 y 5 hay 4 numeros primos\n"
          ],
          "name": "stdout"
        }
      ]
    },
    {
      "cell_type": "code",
      "metadata": {
        "colab": {
          "base_uri": "https://localhost:8080/"
        },
        "id": "YpcYbiLDbZVU",
        "outputId": "2e0a294f-7453-411e-8369-15efefef9bd1"
      },
      "source": [
        "#problema 3.18\r\n",
        "maypro = 0\r\n",
        "clave = 0\r\n",
        "i = 1\r\n",
        "n = int(input(\"Numero de fabricas registradas \"))\r\n",
        "if n <= 100:\r\n",
        "  while i <= n:\r\n",
        "    fabrica = str(input(\"Clave de la fabrica: \"))\r\n",
        "    totanu = 0\r\n",
        "    j = 1\r\n",
        "    if j <= 12:\r\n",
        "      mes = int(input(\"Produccion de la fabrica: \"))\r\n",
        "      totanu = totanu + mes\r\n",
        "      if j == 7 and mes > 3000000:\r\n",
        "        print(f\"La fabrica {fabrica} es una de las de mayor produccion en julio\")\r\n",
        "      j = j + 1\r\n",
        "    if totanu > maypro:\r\n",
        "      maypro = totanu \r\n",
        "      clave = fabrica \r\n",
        "    print(f\"La fabrica {fabrica} fue: $ {totanu}\") \r\n",
        "    i = i + 1\r\n",
        "  print(f\"La fabrica {clave} es la que produjo mas en el año con ${maypro} \")\r\n",
        "else:\r\n",
        "  prnt(\"Error en numero de fabricas\")"
      ],
      "execution_count": null,
      "outputs": [
        {
          "output_type": "stream",
          "text": [
            "Numero de fabricas registradas 6\n",
            "Clave de la fabrica: 001\n",
            "Produccion de la fabrica: 8000\n",
            "La fabrica 001 fue: $ 8000\n",
            "Clave de la fabrica: 002\n",
            "Produccion de la fabrica: 8500\n",
            "La fabrica 002 fue: $ 8500\n",
            "Clave de la fabrica: 003\n",
            "Produccion de la fabrica: 5000\n",
            "La fabrica 003 fue: $ 5000\n",
            "Clave de la fabrica: 004\n",
            "Produccion de la fabrica: 6000\n",
            "La fabrica 004 fue: $ 6000\n",
            "Clave de la fabrica: 005\n",
            "Produccion de la fabrica: 7000\n",
            "La fabrica 005 fue: $ 7000\n",
            "Clave de la fabrica: 006\n",
            "Produccion de la fabrica: 8900\n",
            "La fabrica 006 fue: $ 8900\n",
            "La fabrica 006 es la que produjo mas en el año con $8900 \n"
          ],
          "name": "stdout"
        }
      ]
    },
    {
      "cell_type": "code",
      "metadata": {
        "colab": {
          "base_uri": "https://localhost:8080/"
        },
        "id": "TfHnl_JlhjX0",
        "outputId": "ed294618-ed45-4c9d-a05f-0bf989e578fc"
      },
      "source": [
        "#problema 3.19\r\n",
        "n = int(input(\"Ingrese el limite de numeros \"))\r\n",
        "print(\"1 es un numero perfecto\")\r\n",
        "i = 1\r\n",
        "while i <= n:\r\n",
        "  sum = 0\r\n",
        "  j = 1\r\n",
        "  while j <= int(i/2):\r\n",
        "    if (i % j) == 0:\r\n",
        "      sum = sum + j\r\n",
        "    j = j + 1\r\n",
        "  if sum == i:\r\n",
        "    print(f\"{i} es un numero perfecto\")\r\n",
        "  i = i + 1"
      ],
      "execution_count": 5,
      "outputs": [
        {
          "output_type": "stream",
          "text": [
            "Ingrese el limite de numeros 7\n",
            "1 es un numero perfecto\n",
            "6 es un numero perfecto\n"
          ],
          "name": "stdout"
        }
      ]
    }
  ]
}