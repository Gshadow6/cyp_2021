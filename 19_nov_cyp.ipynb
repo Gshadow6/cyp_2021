{
  "nbformat": 4,
  "nbformat_minor": 0,
  "metadata": {
    "colab": {
      "name": "19_nov_cyp.ipynb",
      "provenance": [],
      "authorship_tag": "ABX9TyOL5Tjz551YNprKmJoc+Pos",
      "include_colab_link": true
    },
    "kernelspec": {
      "name": "python3",
      "display_name": "Python 3"
    }
  },
  "cells": [
    {
      "cell_type": "markdown",
      "metadata": {
        "id": "view-in-github",
        "colab_type": "text"
      },
      "source": [
        "<a href=\"https://colab.research.google.com/github/Gshadow6/cyp_2021/blob/main/19_nov_cyp.ipynb\" target=\"_parent\"><img src=\"https://colab.research.google.com/assets/colab-badge.svg\" alt=\"Open In Colab\"/></a>"
      ]
    },
    {
      "cell_type": "code",
      "metadata": {
        "colab": {
          "base_uri": "https://localhost:8080/"
        },
        "id": "6C91xWmTkhV_",
        "outputId": "63b2d616-c0bd-486a-bcd2-ae30d9e2330f"
      },
      "source": [
        "#Concepto de asignacion\n",
        "I = 0\n",
        "I = I + 1\n",
        "I = I + 1\n",
        "print(f\"I = {I}\" )\n",
        "J = 5 ** 2 /3\n",
        "print(f\"J = {J}\" )"
      ],
      "execution_count": 3,
      "outputs": [
        {
          "output_type": "stream",
          "text": [
            "I = 2\n",
            "J = 8.333333333333334\n"
          ],
          "name": "stdout"
        }
      ]
    },
    {
      "cell_type": "code",
      "metadata": {
        "colab": {
          "base_uri": "https://localhost:8080/"
        },
        "id": "eoLvHI8imzEi",
        "outputId": "d51ab102-a861-4f3c-d738-d0cfa6a0af0b"
      },
      "source": [
        "#Declaracion de variables (Reservando memoria)\n",
        "A = 0\n",
        "B = 0\n",
        "C = 0 \n",
        "D = 0\n",
        "\n",
        "A = int(input(\"Ingrese un valor entero\"))\n",
        "B = int(input(\"Ingrese un valor entero\"))\n",
        "C = int(input(\"Ingrese un valor entero\"))\n",
        "D = int(input(\"Ingrese un valor entero\"))\n",
        "\n",
        "print(D)\n",
        "print(C)\n",
        "print(B)\n",
        "print(A)"
      ],
      "execution_count": 4,
      "outputs": [
        {
          "output_type": "stream",
          "text": [
            "Ingrese un valor entero10\n",
            "Ingrese un valor entero20\n",
            "Ingrese un valor entero30\n",
            "Ingrese un valor entero40\n",
            "40\n",
            "30\n",
            "20\n",
            "10\n"
          ],
          "name": "stdout"
        }
      ]
    },
    {
      "cell_type": "code",
      "metadata": {
        "colab": {
          "base_uri": "https://localhost:8080/"
        },
        "id": "s1NyBNudovDu",
        "outputId": "9c3ebf31-4e60-4831-a570-97a9a95a46f3"
      },
      "source": [
        "#Ejemplo 1.7\n",
        "A = 0\n",
        "B = 0\n",
        "RES = 0\n",
        "\n",
        "A = int(input(\"Ingrese un valor entero \"))\n",
        "B = int(input(\"Ingrese un valor entero \"))\n",
        "RES = ((A + B) **2) / 3\n",
        "print(RES)"
      ],
      "execution_count": 7,
      "outputs": [
        {
          "output_type": "stream",
          "text": [
            "Ingrese un valor entero 14\n",
            "Ingrese un valor entero -5\n",
            "27.0\n"
          ],
          "name": "stdout"
        }
      ]
    },
    {
      "cell_type": "code",
      "metadata": {
        "colab": {
          "base_uri": "https://localhost:8080/"
        },
        "id": "8lcHO_xDuEcK",
        "outputId": "858a550e-7f68-4878-bcc4-53908648c748"
      },
      "source": [
        "#Ejemplo 1.8\n",
        "MAT = 0\n",
        "CAL1 = 0.00\n",
        "CAL2 = 0.00\n",
        "CAL3 = 0.00\n",
        "CAL4 = 0.00\n",
        "CAL5 = 0.00\n",
        "PRO = 0.00\n",
        "\n",
        "MAT = int(input(\"Ingrese su matricula \"))\n",
        "CAL1 = float(input(\"Ingrese su primer calificacion \"))\n",
        "CAL2 = float(input(\"Ingrese su segunda calificacion \"))\n",
        "CAL3 = float(input(\"Ingrese su tercera calificacion \"))\n",
        "CAL4 = float(input(\"Ingrese su cuarta calificacion \"))\n",
        "CAL5 = float(input(\"Ingrese su quinta calificacion \"))\n",
        "PRO = (CAL1 + CAL2 + CAL3 + CAL4 + CAL5) /5\n",
        "\n",
        "print(f\"Matricula =  {MAT}\")\n",
        "print(f\"Promedio de las cinco calificaciones= {PRO}\")"
      ],
      "execution_count": 16,
      "outputs": [
        {
          "output_type": "stream",
          "text": [
            "Ingrese su matricula 16500\n",
            "Ingrese su primer calificacion 8\n",
            "Ingrese su segunda calificacion 8.5\n",
            "Ingrese su tercera calificacion 9\n",
            "Ingrese su cuarta calificacion 7\n",
            "Ingrese su quinta calificacion 6\n",
            "Matricula =  16500\n",
            "Promedio de las cinco calificaciones= 7.7\n"
          ],
          "name": "stdout"
        }
      ]
    },
    {
      "cell_type": "code",
      "metadata": {
        "colab": {
          "base_uri": "https://localhost:8080/"
        },
        "id": "Xaw-XgYdyKsm",
        "outputId": "bfa4de00-ac96-4c05-bf43-c6d2895506b5"
      },
      "source": [
        "#Ejemplo 1.9\n",
        "NUM = 0\n",
        "CUA = 0.0\n",
        "CUB = 0.0\n",
        "\n",
        "NUM = int(input(\"Ingrese un numero entero \"))\n",
        "CUA = NUM ** 2\n",
        "CUB = NUM ** 3\n",
        "\n",
        "print(f\"El cuadrado de {NUM} es {CUA}\")\n",
        "print(f\"El cubo de \",NUM,\" es \",CUB)"
      ],
      "execution_count": 19,
      "outputs": [
        {
          "output_type": "stream",
          "text": [
            "Ingrese un numero entero 7\n",
            "El cuadrado de 7 es 49\n",
            "El cubo de 7 es 343\n"
          ],
          "name": "stdout"
        }
      ]
    },
    {
      "cell_type": "code",
      "metadata": {
        "colab": {
          "base_uri": "https://localhost:8080/"
        },
        "id": "RDQrmhHmzV_p",
        "outputId": "272439de-a94c-4fb7-8ed7-09c01325d8e9"
      },
      "source": [
        "#Ejemplo 1.10\n",
        "BASE = 0.0\n",
        "ALT = 0.0\n",
        "PER = 0.0\n",
        "SUP = 0.0\n",
        "\n",
        "BASE = float(input(\"Ingresa la base del rectangulo \"))\n",
        "ALT = float(input(\"Ingresa la altura del rectangulo \"))\n",
        "PER = (BASE + ALT) * 2\n",
        "SUP = BASE * ALT\n",
        "\n",
        "print(f\"Un rectangulo de base {BASE} y altura {ALT}, su superficie o area es {SUP} y su perimetro es {PER} y\")"
      ],
      "execution_count": 31,
      "outputs": [
        {
          "output_type": "stream",
          "text": [
            "Ingresa la base del rectangulo 8.5\n",
            "Ingresa la altura del rectangulo 6.2\n",
            "Un rectangulo de base 8.5 y altura 6.2, su superficie o area es 52.7 y su perimetro es 29.4 y\n"
          ],
          "name": "stdout"
        }
      ]
    }
  ]
}