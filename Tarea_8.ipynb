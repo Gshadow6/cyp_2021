{
  "nbformat": 4,
  "nbformat_minor": 0,
  "metadata": {
    "colab": {
      "name": "Tarea_8.ipynb",
      "provenance": [],
      "authorship_tag": "ABX9TyM52sJKujTF9XaZ6uhPql6S",
      "include_colab_link": true
    },
    "kernelspec": {
      "name": "python3",
      "display_name": "Python 3"
    }
  },
  "cells": [
    {
      "cell_type": "markdown",
      "metadata": {
        "id": "view-in-github",
        "colab_type": "text"
      },
      "source": [
        "<a href=\"https://colab.research.google.com/github/Gshadow6/cyp_2021/blob/main/Tarea_8.ipynb\" target=\"_parent\"><img src=\"https://colab.research.google.com/assets/colab-badge.svg\" alt=\"Open In Colab\"/></a>"
      ]
    },
    {
      "cell_type": "code",
      "metadata": {
        "colab": {
          "base_uri": "https://localhost:8080/"
        },
        "id": "qi7iAw-e_pr-",
        "outputId": "7a03eea5-980a-4bdf-e38c-6b19d7060e37"
      },
      "source": [
        "print(\"\\u21D2\\u21D2\\u21D2\\u21D2\\u21D2\\u21D2\\u21D2\\u21D2\\u21D2\\u21D2\\u21D2\\u21D2\\u21D2\\u21D2\\u21D2\\u21D2\\u21D2\\u21D2\\u21D2\\u21D2\\u21D2\\u21D2\\u21D2\\u21D2\\u21D2\\u21D2\\u21D2\\u21D2\\u21D2\\u21D2\\u21D2\\u21D2\")\r\n",
        "print(\"\\u21D1                                                 \\u21D3\")\r\n",
        "print(\"\\u21D1         \\u22F0\\u22F1         \\u22F1     \\u22F0   \\u22EF\\u22EF\\u22EF\\u22EF\\u22EF \\u22EE         \\u21D3\")\r\n",
        "print(\"\\u21D1        \\u22F0  \\u22F1         \\u22F1   \\u22F0    \\u22EE        \\u22EE         \\u21D3\")\r\n",
        "print(\"\\u21D1       \\u22F0    \\u22F1         \\u22F1 \\u22F0     \\u22EE        \\u22EE         \\u21D3\")\r\n",
        "print(\"\\u21D1      \\u22F0      \\u22F1         \\u22F0\\u22F1     \\u22EE        \\u22EE         \\u21D3\")\r\n",
        "print(\"\\u21D1     \\u22F0\\u22EF\\u22EF\\u22EF\\u22EF\\u22EF\\u22F1       \\u22F0  \\u22F1    \\u22EE\\u22EF\\u22EF\\u22EF   \\u22EE          \\u21D3\")\r\n",
        "print(\"\\u21D1    \\u22F0          \\u22F1     \\u22F0    \\u22F1   \\u22EE        \\u22EE         \\u21D3\")\r\n",
        "print(\"\\u21D1   \\u22F0            \\u22F1   \\u22F0      \\u22F1  \\u22EE        \\u22EE         \\u21D3\")\r\n",
        "print(\"\\u21D1  \\u22F0              \\u22F1 \\u22F0        \\u22F1 \\u22EF\\u22EF\\u22EF\\u22EF\\u22EF \\u22EF\\u22EF\\u22EF\\u22EF   \\u21D3\")\r\n",
        "print(\"\\u21D1                                                 \\u21D3\")\r\n",
        "print(\"\\u21D0\\u21D0\\u21D0\\u21D0\\u21D0\\u21D0\\u21D0\\u21D0\\u21D0\\u21D0\\u21D0\\u21D0\\u21D0\\u21D0\\u21D0\\u21D0\\u21D0\\u21D0\\u21D0\\u21D0\\u21D0\\u21D0\\u21D0\\u21D0\\u21D0\\u21D0\\u21D0\\u21D0\\u21D0\\u21D0\\u21D0\\u21D0\")"
      ],
      "execution_count": 140,
      "outputs": [
        {
          "output_type": "stream",
          "text": [
            "⇒⇒⇒⇒⇒⇒⇒⇒⇒⇒⇒⇒⇒⇒⇒⇒⇒⇒⇒⇒⇒⇒⇒⇒⇒⇒⇒⇒⇒⇒⇒⇒\n",
            "⇑                                                 ⇓\n",
            "⇑         ⋰⋱         ⋱     ⋰   ⋯⋯⋯⋯⋯ ⋮         ⇓\n",
            "⇑        ⋰  ⋱         ⋱   ⋰    ⋮        ⋮         ⇓\n",
            "⇑       ⋰    ⋱         ⋱ ⋰     ⋮        ⋮         ⇓\n",
            "⇑      ⋰      ⋱         ⋰⋱     ⋮        ⋮         ⇓\n",
            "⇑     ⋰⋯⋯⋯⋯⋯⋱       ⋰  ⋱    ⋮⋯⋯⋯   ⋮          ⇓\n",
            "⇑    ⋰          ⋱     ⋰    ⋱   ⋮        ⋮         ⇓\n",
            "⇑   ⋰            ⋱   ⋰      ⋱  ⋮        ⋮         ⇓\n",
            "⇑  ⋰              ⋱ ⋰        ⋱ ⋯⋯⋯⋯⋯ ⋯⋯⋯⋯   ⇓\n",
            "⇑                                                 ⇓\n",
            "⇐⇐⇐⇐⇐⇐⇐⇐⇐⇐⇐⇐⇐⇐⇐⇐⇐⇐⇐⇐⇐⇐⇐⇐⇐⇐⇐⇐⇐⇐⇐⇐\n"
          ],
          "name": "stdout"
        }
      ]
    }
  ]
}