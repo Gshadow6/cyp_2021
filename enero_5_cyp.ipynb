{
  "nbformat": 4,
  "nbformat_minor": 0,
  "metadata": {
    "colab": {
      "name": "enero_5_cyp.ipynb",
      "provenance": [],
      "authorship_tag": "ABX9TyP700LJt1booE/RtTzKhp2j",
      "include_colab_link": true
    },
    "kernelspec": {
      "name": "python3",
      "display_name": "Python 3"
    }
  },
  "cells": [
    {
      "cell_type": "markdown",
      "metadata": {
        "id": "view-in-github",
        "colab_type": "text"
      },
      "source": [
        "<a href=\"https://colab.research.google.com/github/Gshadow6/cyp_2021/blob/main/enero_5_cyp.ipynb\" target=\"_parent\"><img src=\"https://colab.research.google.com/assets/colab-badge.svg\" alt=\"Open In Colab\"/></a>"
      ]
    },
    {
      "cell_type": "code",
      "metadata": {
        "colab": {
          "base_uri": "https://localhost:8080/"
        },
        "id": "UG48Fbomk1CI",
        "outputId": "3eb4dd61-bff1-42cd-adbd-f109886b0891"
      },
      "source": [
        "sueldos = [0.0 for x in range (7)]\r\n",
        "print(sueldos)\r\n",
        "sueldos[0] = 15.3\r\n",
        "sueldos[1] = 12.4\r\n",
        "sueldos[2] = 18.6\r\n",
        "sueldos[3] = 25.9\r\n",
        "sueldos[4] = 35.4\r\n",
        "sueldos[5] = 28.1\r\n",
        "sueldos[6] = 35.8\r\n",
        "print(sueldos)\r\n",
        "for i in range (0, 7):\r\n",
        "  sueldos[i] = i + 1 #float(input(f\"Introduzca el sueldo del {i + 1} empleado \"))\r\n",
        "print(sueldos)"
      ],
      "execution_count": 18,
      "outputs": [
        {
          "output_type": "stream",
          "text": [
            "[0.0, 0.0, 0.0, 0.0, 0.0, 0.0, 0.0]\n",
            "[15.3, 12.4, 18.6, 25.9, 35.4, 28.1, 35.8]\n",
            "[1, 2, 3, 4, 5, 6, 7]\n"
          ],
          "name": "stdout"
        }
      ]
    },
    {
      "cell_type": "code",
      "metadata": {
        "colab": {
          "base_uri": "https://localhost:8080/"
        },
        "id": "aNrFTtOAo4oY",
        "outputId": "0dcb1ec9-78ef-424e-a8f5-b0e8de4bd10e"
      },
      "source": [
        "#problema 4.1\r\n",
        "MAXIMO = 7\r\n",
        "suma = 0.0\r\n",
        "sueldos = [0.0 for x in range (MAXIMO)]\r\n",
        "for i in range(MAXIMO):\r\n",
        "  sueldos[i]= float(input(f\"Introduzca el sueldo del empleado {i + 1}: $\")) \r\n",
        "\r\n",
        "for i in range(MAXIMO):\r\n",
        "  print(f\"Trabajador {i + 1}, gana: {sueldos[i]}\")\r\n",
        "\r\n",
        "for i in range(MAXIMO):\r\n",
        "  suma = suma + sueldos[i]\r\n",
        "\r\n",
        "prom = suma / MAXIMO\r\n",
        "print(f\"El promedio de sueldos es: {prom}\")\r\n",
        "\r\n",
        "for i in range(7):\r\n",
        "  if sueldos[i] > prom:\r\n",
        "    print(f\"El trabajador {i + 1} tiene un sueldo mayor al promedio, tiene de sueldo: ${sueldos[i]}\")\r\n"
      ],
      "execution_count": 31,
      "outputs": [
        {
          "output_type": "stream",
          "text": [
            "Introduzca el sueldo del empleado 1: $8\n",
            "Introduzca el sueldo del empleado 2: $9\n",
            "Introduzca el sueldo del empleado 3: $7\n",
            "Introduzca el sueldo del empleado 4: $8\n",
            "Introduzca el sueldo del empleado 5: $5\n",
            "Introduzca el sueldo del empleado 6: $4\n",
            "Introduzca el sueldo del empleado 7: $5\n",
            "Trabajador 1, gana: 8.0\n",
            "Trabajador 2, gana: 9.0\n",
            "Trabajador 3, gana: 7.0\n",
            "Trabajador 4, gana: 8.0\n",
            "Trabajador 5, gana: 5.0\n",
            "Trabajador 6, gana: 4.0\n",
            "Trabajador 7, gana: 5.0\n",
            "El promedio de sueldos es: 6.571428571428571\n",
            "El trabajador 1 tiene un sueldo mayor al promedio, tiene de sueldo: $8.0\n",
            "El trabajador 2 tiene un sueldo mayor al promedio, tiene de sueldo: $9.0\n",
            "El trabajador 3 tiene un sueldo mayor al promedio, tiene de sueldo: $7.0\n",
            "El trabajador 4 tiene un sueldo mayor al promedio, tiene de sueldo: $8.0\n"
          ],
          "name": "stdout"
        }
      ]
    },
    {
      "cell_type": "code",
      "metadata": {
        "colab": {
          "base_uri": "https://localhost:8080/"
        },
        "id": "VKMyQXiBs_Di",
        "outputId": "90389da4-84b9-42c1-b7ab-3a0fa1abf60e"
      },
      "source": [
        "#hacer un programa que solicite 5 valores positivos y determine\r\n",
        "#1.- cual es el menor\r\n",
        "#2.- cual es el mayor\r\n",
        "#3.- cual es el promedio\r\n",
        "n = 5\r\n",
        "may = 0\r\n",
        "men = 2000\r\n",
        "prom = 0.0\r\n",
        "num = [0.0 for x in range(n)]\r\n",
        "for i in range (n):\r\n",
        "  num[i] = float(input(\"Introduzca un numero positivo \")) \r\n",
        "\r\n",
        "for i in range (n):\r\n",
        "  if num[i] > may:\r\n",
        "    may = num[i]\r\n",
        "\r\n",
        "for i in range (n):\r\n",
        "  if num[i] < men:\r\n",
        "    men = num[i]\r\n",
        "  \r\n",
        "for i in range (n):\r\n",
        "  suma = suma + num[i]\r\n",
        "  \r\n",
        "\r\n",
        "prom = suma / 5\r\n",
        "print(f\"El promedio es {prom}\")\r\n",
        "print(f\"El numero {may} es un numero mayor\")\r\n",
        "print(f\"El numero {men} es un numero menor\")"
      ],
      "execution_count": 37,
      "outputs": [
        {
          "output_type": "stream",
          "text": [
            "Introduzca un numero positivo 8\n",
            "Introduzca un numero positivo 9\n",
            "Introduzca un numero positivo 7\n",
            "Introduzca un numero positivo 8\n",
            "Introduzca un numero positivo 5\n",
            "El promedio es 35.6\n",
            "El numero 9.0 es un numero mayor\n",
            "El numero 5.0 es un numero menor\n"
          ],
          "name": "stdout"
        }
      ]
    },
    {
      "cell_type": "code",
      "metadata": {
        "colab": {
          "base_uri": "https://localhost:8080/"
        },
        "id": "lRhUyATlx-Aa",
        "outputId": "3319c9ea-433f-4330-e687-6df02718879a"
      },
      "source": [
        "#problema 4.1\r\n",
        "N = int(input(\" ingrese el numero de elementos del arreglo \"))\r\n",
        "VEC = []\r\n",
        "I = 1\r\n",
        "if I <= N and N <= 500:\r\n",
        "  VEC = [0 for x in range(N)]\r\n",
        "  print(VEC)\r\n",
        "  for I in range(N):\r\n",
        "    VEC[I] = int(input(f\"Ingrese el valor {str( I + 1)}: \"))\r\n",
        "  print(\"La lista de numeros sin repeticiones\")\r\n",
        "  I = 0\r\n",
        "  while I < N:\r\n",
        "    print(VEC[I])\r\n",
        "    REPET = VEC[I]\r\n",
        "    while I < N and REPET == VEC[I]:\r\n",
        "      I = I + 1\r\n",
        "\r\n",
        "else:\r\n",
        "  print(\"El numero de elementos del arreglo es incorrecto\")"
      ],
      "execution_count": 44,
      "outputs": [
        {
          "output_type": "stream",
          "text": [
            " ingrese el numero de elementos del arreglo 10\n",
            "[0, 0, 0, 0, 0, 0, 0, 0, 0, 0]\n",
            "Ingrese el valor 1: 2\n",
            "Ingrese el valor 2: 3\n",
            "Ingrese el valor 3: 3\n",
            "Ingrese el valor 4: 3\n",
            "Ingrese el valor 5: 10\n",
            "Ingrese el valor 6: 20\n",
            "Ingrese el valor 7: 20\n",
            "Ingrese el valor 8: 40\n",
            "Ingrese el valor 9: 51\n",
            "Ingrese el valor 10: 2\n",
            "La lista de numeros sin repeticiones\n",
            "2\n"
          ],
          "name": "stdout"
        }
      ]
    }
  ]
}