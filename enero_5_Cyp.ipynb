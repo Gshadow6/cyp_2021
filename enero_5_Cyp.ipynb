{
  "nbformat": 4,
  "nbformat_minor": 0,
  "metadata": {
    "colab": {
      "name": "enero_5_Cyp.ipynb",
      "provenance": [],
      "authorship_tag": "ABX9TyOOGQsfczbs4DlGel1JDJoK",
      "include_colab_link": true
    },
    "kernelspec": {
      "name": "python3",
      "display_name": "Python 3"
    }
  },
  "cells": [
    {
      "cell_type": "markdown",
      "metadata": {
        "id": "view-in-github",
        "colab_type": "text"
      },
      "source": [
        "<a href=\"https://colab.research.google.com/github/Gshadow6/cyp_2021/blob/main/enero_5_Cyp.ipynb\" target=\"_parent\"><img src=\"https://colab.research.google.com/assets/colab-badge.svg\" alt=\"Open In Colab\"/></a>"
      ]
    },
    {
      "cell_type": "code",
      "metadata": {
        "colab": {
          "base_uri": "https://localhost:8080/"
        },
        "id": "E61HL5YLTMJv",
        "outputId": "58ef403c-03df-4bbf-f138-33b767c71521"
      },
      "source": [
        "sueldos = [0.0 for x in range (7)]\r\n",
        "print(sueldos)\r\n",
        "sueldos[0] = 15.3\r\n",
        "sueldos[1] = 12.4\r\n",
        "sueldos[2] = 18.6\r\n",
        "sueldos[3] = 25.9\r\n",
        "sueldos[4] = 35.4\r\n",
        "sueldos[5] = 28.1\r\n",
        "sueldos[6] = 35.8\r\n",
        "print(sueldos)\r\n",
        "for i in range (0, 7):\r\n",
        "  sueldos[i] = i + 1 #float(input(f\"Introduzca el sueldo del {i + 1} empleado \"))\r\n",
        "print(sueldos)"
      ],
      "execution_count": 1,
      "outputs": [
        {
          "output_type": "stream",
          "text": [
            "[0.0, 0.0, 0.0, 0.0, 0.0, 0.0, 0.0]\n",
            "[15.3, 12.4, 18.6, 25.9, 35.4, 28.1, 35.8]\n",
            "[1, 2, 3, 4, 5, 6, 7]\n"
          ],
          "name": "stdout"
        }
      ]
    },
    {
      "cell_type": "code",
      "metadata": {
        "colab": {
          "base_uri": "https://localhost:8080/"
        },
        "id": "kew-m03KTVYB",
        "outputId": "f212dde9-703e-4579-83dc-df4664babbed"
      },
      "source": [
        "#problema 4.1\r\n",
        "MAXIMO = 7\r\n",
        "suma = 0.0\r\n",
        "sueldos = [0.0 for x in range (MAXIMO)]\r\n",
        "for i in range(MAXIMO):\r\n",
        "  sueldos[i]= float(input(f\"Introduzca el sueldo del empleado {i + 1}: $\")) \r\n",
        "\r\n",
        "for i in range(MAXIMO):\r\n",
        "  print(f\"Trabajador {i + 1}, gana: {sueldos[i]}\")\r\n",
        "\r\n",
        "for i in range(MAXIMO):\r\n",
        "  suma = suma + sueldos[i]\r\n",
        "\r\n",
        "prom = suma / MAXIMO\r\n",
        "print(f\"El promedio de sueldos es: {prom}\")\r\n",
        "\r\n",
        "for i in range(7):\r\n",
        "  if sueldos[i] > prom:\r\n",
        "    print(f\"El trabajador {i + 1} tiene un sueldo mayor al promedio, tiene de sueldo: ${sueldos[i]}\")"
      ],
      "execution_count": 2,
      "outputs": [
        {
          "output_type": "stream",
          "text": [
            "Introduzca el sueldo del empleado 1: $8\n",
            "Introduzca el sueldo del empleado 2: $9\n",
            "Introduzca el sueldo del empleado 3: $7\n",
            "Introduzca el sueldo del empleado 4: $5\n",
            "Introduzca el sueldo del empleado 5: $6\n",
            "Introduzca el sueldo del empleado 6: $2\n",
            "Introduzca el sueldo del empleado 7: $4\n",
            "Trabajador 1, gana: 8.0\n",
            "Trabajador 2, gana: 9.0\n",
            "Trabajador 3, gana: 7.0\n",
            "Trabajador 4, gana: 5.0\n",
            "Trabajador 5, gana: 6.0\n",
            "Trabajador 6, gana: 2.0\n",
            "Trabajador 7, gana: 4.0\n",
            "El promedio de sueldos es: 5.857142857142857\n",
            "El trabajador 1 tiene un sueldo mayor al promedio, tiene de sueldo: $8.0\n",
            "El trabajador 2 tiene un sueldo mayor al promedio, tiene de sueldo: $9.0\n",
            "El trabajador 3 tiene un sueldo mayor al promedio, tiene de sueldo: $7.0\n",
            "El trabajador 5 tiene un sueldo mayor al promedio, tiene de sueldo: $6.0\n"
          ],
          "name": "stdout"
        }
      ]
    },
    {
      "cell_type": "code",
      "metadata": {
        "colab": {
          "base_uri": "https://localhost:8080/"
        },
        "id": "pT9Du30RTeE7",
        "outputId": "2a584885-d331-44e1-e827-9a50adc2a057"
      },
      "source": [
        "#hacer un programa que solicite 5 valores positivos y determine\r\n",
        "#1.- cual es el menor\r\n",
        "#2.- cual es el mayor\r\n",
        "#3.- cual es el promedio\r\n",
        "numeros = [float(0) for x in range(5)]\r\n",
        "mayor, menor, suma, promedio = 0, 0, 0, 0\r\n",
        "for i in range (0, 5):\r\n",
        "  numeros[i] = float(input(f\"Introduzca el {i+1}° número: \"))\r\n",
        "  if i > 0:\r\n",
        "    if numeros[i] > mayor:\r\n",
        "      mayor = numeros[i]\r\n",
        "    if numeros[i] < menor:\r\n",
        "      menor = numeros[i]\r\n",
        "  else:\r\n",
        "    mayor = numeros[i]\r\n",
        "    menor = numeros[i]\r\n",
        "  suma += numeros[i]\r\n",
        "promedio = suma / 5\r\n",
        "\r\n",
        "print(f\"El número mayor es: {mayor}\")\r\n",
        "print(f\"El número menor es: {menor}\")\r\n",
        "print(f\"El promedio de los números es: {promedio}\")"
      ],
      "execution_count": 4,
      "outputs": [
        {
          "output_type": "stream",
          "text": [
            "Introduzca el 1° número: 3\n",
            "Introduzca el 2° número: 8\n",
            "Introduzca el 3° número: 6\n",
            "Introduzca el 4° número: 8\n",
            "Introduzca el 5° número: 7\n",
            "El número mayor es: 8.0\n",
            "El número menor es: 3.0\n",
            "El promedio de los números es: 6.4\n"
          ],
          "name": "stdout"
        }
      ]
    },
    {
      "cell_type": "code",
      "metadata": {
        "colab": {
          "base_uri": "https://localhost:8080/"
        },
        "id": "CrQMU7O9VUGO",
        "outputId": "a6a735af-40df-41a2-dc62-073df12085e3"
      },
      "source": [
        "#Problema 4.1\r\n",
        "q = int(input(\"Ingresa cuántos números serán: \"))\r\n",
        "nums = [float(0) for x in range (q)]\r\n",
        "\r\n",
        "for i in range(0, q):\r\n",
        "  nums[i] = float(input(f\"Ingresa el {i+1}° número: \"))\r\n",
        "\r\n",
        "nums = list(dict.fromkeys(nums))\r\n",
        "print(nums)"
      ],
      "execution_count": 5,
      "outputs": [
        {
          "output_type": "stream",
          "text": [
            "Ingresa cuántos números serán: 10\n",
            "Ingresa el 1° número: 2\n",
            "Ingresa el 2° número: 3\n",
            "Ingresa el 3° número: 3\n",
            "Ingresa el 4° número: 3\n",
            "Ingresa el 5° número: 3\n",
            "Ingresa el 6° número: 4\n",
            "Ingresa el 7° número: 10\n",
            "Ingresa el 8° número: 20\n",
            "Ingresa el 9° número: 20\n",
            "Ingresa el 10° número: 40\n",
            "[2.0, 3.0, 4.0, 10.0, 20.0, 40.0]\n"
          ],
          "name": "stdout"
        }
      ]
    }
  ]
}