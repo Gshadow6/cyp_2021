{
  "nbformat": 4,
  "nbformat_minor": 0,
  "metadata": {
    "colab": {
      "name": "17_nov_cyp.ipynb",
      "provenance": [],
      "authorship_tag": "ABX9TyPsdDASRfPS52p7oE64Xpoj",
      "include_colab_link": true
    },
    "kernelspec": {
      "name": "python3",
      "display_name": "Python 3"
    }
  },
  "cells": [
    {
      "cell_type": "markdown",
      "metadata": {
        "id": "view-in-github",
        "colab_type": "text"
      },
      "source": [
        "<a href=\"https://colab.research.google.com/github/Gshadow6/cyp_2021/blob/main/17_nov_cyp.ipynb\" target=\"_parent\"><img src=\"https://colab.research.google.com/assets/colab-badge.svg\" alt=\"Open In Colab\"/></a>"
      ]
    },
    {
      "cell_type": "code",
      "metadata": {
        "colab": {
          "base_uri": "https://localhost:8080/"
        },
        "id": "jdYCx7MzSJ0z",
        "outputId": "ca6e9712-62d6-45de-c915-36aaa840f623"
      },
      "source": [
        "#tipos de operadores aritmeticos \n",
        "edad = 15\n",
        "estatura = 1.67\n",
        "a = 10\n",
        "b = 3\n",
        "c = 2 ** b + 2 + 3 + 4\n",
        "print(c)\n",
        "\n",
        "e = estatura * 2.0\n",
        "print(e)\n",
        "\n",
        "f= a/b #py da el calculo exacto\n",
        "print(f) #\n",
        "\n",
        "#se puede forzar la division entero\n",
        "g= a//b\n",
        "print(\"g =\",g)\n",
        "\n",
        "h= a % b\n",
        "print(\"h = \",h)\n",
        "\n",
        "num= 11\n",
        "print(\"Es par num\", (num % 2) == 0)"
      ],
      "execution_count": 10,
      "outputs": [
        {
          "output_type": "stream",
          "text": [
            "17\n",
            "3.34\n",
            "3.3333333333333335\n",
            "g = 3\n",
            "h =  1\n",
            "Es par num False\n"
          ],
          "name": "stdout"
        }
      ]
    },
    {
      "cell_type": "code",
      "metadata": {
        "colab": {
          "base_uri": "https://localhost:8080/"
        },
        "id": "JBQf-QRVW-H8",
        "outputId": "8bffb279-5821-4031-dc58-34317e7921c6"
      },
      "source": [
        "#jerarquia de operaciones\n",
        "ecuacion= 9 + 7 * 8 - 36/5 # 9 + 56 - 7.2 --> 65 - 7.2 = 57.8\n",
        "print(ecuacion)\n",
        "\n",
        "ecuacion= 0\n",
        "ecuacion = (9 + 7) * 8 - 36/5 # 128 - 7.2\n",
        "print(ecuacion)\n",
        "\n",
        "ecuacion= 0\n",
        "ecuacion= 9 + 7 * (8 - 36)/5 \n",
        "print(ecuacion)"
      ],
      "execution_count": 14,
      "outputs": [
        {
          "output_type": "stream",
          "text": [
            "57.8\n",
            "120.8\n",
            "-30.200000000000003\n"
          ],
          "name": "stdout"
        }
      ]
    },
    {
      "cell_type": "code",
      "metadata": {
        "colab": {
          "base_uri": "https://localhost:8080/"
        },
        "id": "ss-m6oXUcrWb",
        "outputId": "6be72d05-00fc-40dd-adab-ae16cff084a2"
      },
      "source": [
        "#operadores logicos --> True o False\n",
        "x= 5\n",
        "y= 4\n",
        "valor = (x == y) #Son iguales? --> False\n",
        "print(valor)\n",
        "\n",
        "valor = (x != y) #Son diferentes? --> True\n",
        "print(valor)\n",
        "\n",
        "valor= (x < y) #x es menor que y? --> False\n",
        "print(valor)\n",
        "\n",
        "valor= (x > y) #x es mayor que y? --> True\n",
        "print(valor)\n",
        "\n",
        "y= 5\n",
        "valor= (x <= y) #x es menor o igual que y? --> True\n",
        "print(valor)\n",
        "\n",
        "valor= (x >= y) #x es mayor o igual que y? --> True\n",
        "print(valor)"
      ],
      "execution_count": 19,
      "outputs": [
        {
          "output_type": "stream",
          "text": [
            "False\n",
            "True\n",
            "False\n",
            "True\n",
            "True\n",
            "True\n"
          ],
          "name": "stdout"
        }
      ]
    },
    {
      "cell_type": "code",
      "metadata": {
        "colab": {
          "base_uri": "https://localhost:8080/"
        },
        "id": "AjTYi0-YfpSg",
        "outputId": "b935b597-863b-4ccb-ef41-932278830449"
      },
      "source": [
        "costo_chetos= 7\n",
        "tienda_abierta= True\n",
        "capital_en_bolsa= 10\n",
        "\n",
        "se_compra= (costo_chetos < capital_en_bolsa) and (tienda_abierta == True)\n",
        "print(se_compra)"
      ],
      "execution_count": 22,
      "outputs": [
        {
          "output_type": "stream",
          "text": [
            "True\n"
          ],
          "name": "stdout"
        }
      ]
    }
  ]
}