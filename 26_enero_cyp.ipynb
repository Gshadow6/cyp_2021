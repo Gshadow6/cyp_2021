{
  "nbformat": 4,
  "nbformat_minor": 0,
  "metadata": {
    "colab": {
      "name": "26_enero_cyp.ipynb",
      "provenance": [],
      "authorship_tag": "ABX9TyP/VjDP2iZT5H0fueF0tw1h",
      "include_colab_link": true
    },
    "kernelspec": {
      "name": "python3",
      "display_name": "Python 3"
    }
  },
  "cells": [
    {
      "cell_type": "markdown",
      "metadata": {
        "id": "view-in-github",
        "colab_type": "text"
      },
      "source": [
        "<a href=\"https://colab.research.google.com/github/Gshadow6/cyp_2021/blob/main/26_enero_cyp.ipynb\" target=\"_parent\"><img src=\"https://colab.research.google.com/assets/colab-badge.svg\" alt=\"Open In Colab\"/></a>"
      ]
    },
    {
      "cell_type": "markdown",
      "metadata": {
        "id": "d9EjvMSOtakh"
      },
      "source": [
        "#Listas de pyhton 3\r\n",
        "1. Es una estructura de datos lineal de 0 a n elementos.\r\n",
        "1. \"Equivalente\" a los arreglos.\r\n",
        "1. Pueden ser de diferentes tipos de dato. [1, 2, 32, 12] [1, True, 2.34, \"Hola\"]\r\n",
        "1. Pueden ser anidados, listas de listas. [\"Melon\", [\"Manzana roja\", \"Manzana amarilla\", \"Manzana rayada\"]]\r\n",
        "1. Su selector es de la forma: [int].\r\n",
        "1. Son mutables."
      ]
    },
    {
      "cell_type": "code",
      "metadata": {
        "colab": {
          "base_uri": "https://localhost:8080/"
        },
        "id": "D7rztu-7vFdt",
        "outputId": "6eb87fb1-abd4-4d84-aef3-7c50676badcb"
      },
      "source": [
        "#Ejemplos\r\n",
        "num= [8, 56, 35, 13, 65]\r\n",
        "print(num)\r\n",
        "\r\n",
        "#Para imprimir el tercer elemento\r\n",
        "print(num[2]) #La primera posicion es 0 que es 8\r\n",
        "\r\n",
        "#para crear una lista vacia hay dos formas\r\n",
        "colores= [] #1era forma\r\n",
        "type(colores) #type(): Averigua el tipo de dato que es una variable\r\n",
        "\r\n",
        "dias = list() #2da forma\r\n",
        "\r\n",
        "print(colores)\r\n",
        "print(dias)"
      ],
      "execution_count": 6,
      "outputs": [
        {
          "output_type": "stream",
          "text": [
            "[8, 56, 35, 13, 65]\n",
            "35\n",
            "[]\n",
            "[]\n"
          ],
          "name": "stdout"
        }
      ]
    },
    {
      "cell_type": "code",
      "metadata": {
        "colab": {
          "base_uri": "https://localhost:8080/"
        },
        "id": "uyzj--mXwIGa",
        "outputId": "612518d8-0e03-4b72-f230-1716c205aa34"
      },
      "source": [
        "#Pueden ser de diferentes tipos de datos\r\n",
        "mi_lista=[1, 2, 3, \"José\", False, 1.65, [5524872913, 55874927, 65846186]]\r\n",
        "print(mi_lista)\r\n",
        "#imprimir la posicion 5, imprimir el 1.65\r\n",
        "print(mi_lista[5])\r\n",
        "#Para imprimir el 2do numero de la lista dentro de la lista\r\n",
        "print(mi_lista[6][1])\r\n",
        "#para imprimir la é de José\r\n",
        "print(mi_lista[3][3]) #Bucsando la letra\r\n",
        "print(mi_lista[3][-1]) #Con indexado negativo\r\n",
        "print(mi_lista[3][3::]) #Con slicing\r\n",
        "print(mi_lista[3][-1::1]) #Con slicing e indexado negativo \r\n"
      ],
      "execution_count": 20,
      "outputs": [
        {
          "output_type": "stream",
          "text": [
            "[1, 2, 3, 'José', False, 1.65, [5524872913, 55874927, 65846186]]\n",
            "1.65\n",
            "55874927\n",
            "é\n",
            "é\n",
            "é\n",
            "é\n"
          ],
          "name": "stdout"
        }
      ]
    },
    {
      "cell_type": "code",
      "metadata": {
        "colab": {
          "base_uri": "https://localhost:8080/"
        },
        "id": "MUIZBx0_0hKf",
        "outputId": "e42f6de7-2942-4ff3-96d3-d5f55553a2cf"
      },
      "source": [
        "frutas= [\"melon\", \"sandia\", \"kiwi\", \"aguacate\", \"mango\", \"platano\"]\r\n",
        "print(frutas)\r\n",
        "frutas[0]= \"Melón\" #Se cambia el string de la posicion 0\r\n",
        "print(frutas)\r\n",
        "frutas[1]= frutas[1].capitalize() #.capitalize() cambia a letra mayuscula la primera letra\r\n",
        "print(frutas)"
      ],
      "execution_count": 23,
      "outputs": [
        {
          "output_type": "stream",
          "text": [
            "['melon', 'sandia', 'kiwi', 'aguacate', 'mango', 'platano']\n",
            "['Melón', 'sandia', 'kiwi', 'aguacate', 'mango', 'platano']\n",
            "['Melón', 'Sandia', 'kiwi', 'aguacate', 'mango', 'platano']\n"
          ],
          "name": "stdout"
        }
      ]
    },
    {
      "cell_type": "code",
      "metadata": {
        "colab": {
          "base_uri": "https://localhost:8080/"
        },
        "id": "jqe_ZYvS2QA3",
        "outputId": "f2a0cb1d-66f5-4aec-98f1-2a960ed305fc"
      },
      "source": [
        "#Las listas son clases por lo tanto, tienen metodos\r\n",
        "#Ejemplo: .append()= agrega algo al final\r\n",
        "frutas.append(\"Fresa\")\r\n",
        "print(frutas)\r\n",
        "\r\n",
        "frutas.clear() #clear= limpia la lista\r\n",
        "print(frutas)\r\n",
        "\r\n",
        "frutas= [\"melon\", \"sandia\", \"kiwi\", \"aguacate\", \"mango\", \"platano\"]\r\n",
        "frutas_1= frutas.copy()#.copy()= Hacer una copia de la lista\r\n",
        "\r\n",
        "frutas_1[0]= \"chico zapote\"\r\n",
        "print(frutas)\r\n",
        "print(frutas_1)\r\n",
        "\r\n",
        "colores=[\"rojo\", \"verde\", \"azul\"]\r\n",
        "frutas.extend(colores) #.extend() agrega los elementos como elementos de la lista frutas\r\n",
        "print(frutas)\r\n",
        "\r\n",
        "frutas.insert(3, \"Limón\") #.insert() inserta en la lista un elemento\r\n",
        "print(frutas) \r\n",
        "\r\n",
        "frutas.remove(\"kiwi\") #.remove() quita el elemento que este en lista, si no esta dará error porque no hay nada que borrar\r\n",
        "print(frutas)\r\n",
        "\r\n",
        "del frutas[2] #del= es un operador de lista que borra elementos\r\n",
        "print(frutas)"
      ],
      "execution_count": 33,
      "outputs": [
        {
          "output_type": "stream",
          "text": [
            "['melon', 'sandia', 'Limón', 'aguacate', 'mango', 'platano', 'rojo', 'verde', 'azul', 'Fresa']\n",
            "[]\n",
            "['melon', 'sandia', 'kiwi', 'aguacate', 'mango', 'platano']\n",
            "['chico zapote', 'sandia', 'kiwi', 'aguacate', 'mango', 'platano']\n",
            "['melon', 'sandia', 'kiwi', 'aguacate', 'mango', 'platano', 'rojo', 'verde', 'azul']\n",
            "['melon', 'sandia', 'kiwi', 'Limón', 'aguacate', 'mango', 'platano', 'rojo', 'verde', 'azul']\n",
            "['melon', 'sandia', 'Limón', 'aguacate', 'mango', 'platano', 'rojo', 'verde', 'azul']\n",
            "['melon', 'sandia', 'aguacate', 'mango', 'platano', 'rojo', 'verde', 'azul']\n"
          ],
          "name": "stdout"
        }
      ]
    },
    {
      "cell_type": "code",
      "metadata": {
        "colab": {
          "base_uri": "https://localhost:8080/"
        },
        "id": "SVeeqxrm2Ys3",
        "outputId": "241031d7-722f-48b0-ffb4-787e46d5d962"
      },
      "source": [
        "help(list) #Para saber todos los metodos de una variable con descripcion\r\n",
        "dir(list) #Muestra los metodos sin descripciones"
      ],
      "execution_count": 28,
      "outputs": [
        {
          "output_type": "stream",
          "text": [
            "Help on class list in module builtins:\n",
            "\n",
            "class list(object)\n",
            " |  list() -> new empty list\n",
            " |  list(iterable) -> new list initialized from iterable's items\n",
            " |  \n",
            " |  Methods defined here:\n",
            " |  \n",
            " |  __add__(self, value, /)\n",
            " |      Return self+value.\n",
            " |  \n",
            " |  __contains__(self, key, /)\n",
            " |      Return key in self.\n",
            " |  \n",
            " |  __delitem__(self, key, /)\n",
            " |      Delete self[key].\n",
            " |  \n",
            " |  __eq__(self, value, /)\n",
            " |      Return self==value.\n",
            " |  \n",
            " |  __ge__(self, value, /)\n",
            " |      Return self>=value.\n",
            " |  \n",
            " |  __getattribute__(self, name, /)\n",
            " |      Return getattr(self, name).\n",
            " |  \n",
            " |  __getitem__(...)\n",
            " |      x.__getitem__(y) <==> x[y]\n",
            " |  \n",
            " |  __gt__(self, value, /)\n",
            " |      Return self>value.\n",
            " |  \n",
            " |  __iadd__(self, value, /)\n",
            " |      Implement self+=value.\n",
            " |  \n",
            " |  __imul__(self, value, /)\n",
            " |      Implement self*=value.\n",
            " |  \n",
            " |  __init__(self, /, *args, **kwargs)\n",
            " |      Initialize self.  See help(type(self)) for accurate signature.\n",
            " |  \n",
            " |  __iter__(self, /)\n",
            " |      Implement iter(self).\n",
            " |  \n",
            " |  __le__(self, value, /)\n",
            " |      Return self<=value.\n",
            " |  \n",
            " |  __len__(self, /)\n",
            " |      Return len(self).\n",
            " |  \n",
            " |  __lt__(self, value, /)\n",
            " |      Return self<value.\n",
            " |  \n",
            " |  __mul__(self, value, /)\n",
            " |      Return self*value.\n",
            " |  \n",
            " |  __ne__(self, value, /)\n",
            " |      Return self!=value.\n",
            " |  \n",
            " |  __new__(*args, **kwargs) from builtins.type\n",
            " |      Create and return a new object.  See help(type) for accurate signature.\n",
            " |  \n",
            " |  __repr__(self, /)\n",
            " |      Return repr(self).\n",
            " |  \n",
            " |  __reversed__(...)\n",
            " |      L.__reversed__() -- return a reverse iterator over the list\n",
            " |  \n",
            " |  __rmul__(self, value, /)\n",
            " |      Return value*self.\n",
            " |  \n",
            " |  __setitem__(self, key, value, /)\n",
            " |      Set self[key] to value.\n",
            " |  \n",
            " |  __sizeof__(...)\n",
            " |      L.__sizeof__() -- size of L in memory, in bytes\n",
            " |  \n",
            " |  append(...)\n",
            " |      L.append(object) -> None -- append object to end\n",
            " |  \n",
            " |  clear(...)\n",
            " |      L.clear() -> None -- remove all items from L\n",
            " |  \n",
            " |  copy(...)\n",
            " |      L.copy() -> list -- a shallow copy of L\n",
            " |  \n",
            " |  count(...)\n",
            " |      L.count(value) -> integer -- return number of occurrences of value\n",
            " |  \n",
            " |  extend(...)\n",
            " |      L.extend(iterable) -> None -- extend list by appending elements from the iterable\n",
            " |  \n",
            " |  index(...)\n",
            " |      L.index(value, [start, [stop]]) -> integer -- return first index of value.\n",
            " |      Raises ValueError if the value is not present.\n",
            " |  \n",
            " |  insert(...)\n",
            " |      L.insert(index, object) -- insert object before index\n",
            " |  \n",
            " |  pop(...)\n",
            " |      L.pop([index]) -> item -- remove and return item at index (default last).\n",
            " |      Raises IndexError if list is empty or index is out of range.\n",
            " |  \n",
            " |  remove(...)\n",
            " |      L.remove(value) -> None -- remove first occurrence of value.\n",
            " |      Raises ValueError if the value is not present.\n",
            " |  \n",
            " |  reverse(...)\n",
            " |      L.reverse() -- reverse *IN PLACE*\n",
            " |  \n",
            " |  sort(...)\n",
            " |      L.sort(key=None, reverse=False) -> None -- stable sort *IN PLACE*\n",
            " |  \n",
            " |  ----------------------------------------------------------------------\n",
            " |  Data and other attributes defined here:\n",
            " |  \n",
            " |  __hash__ = None\n",
            "\n"
          ],
          "name": "stdout"
        },
        {
          "output_type": "execute_result",
          "data": {
            "text/plain": [
              "['__add__',\n",
              " '__class__',\n",
              " '__contains__',\n",
              " '__delattr__',\n",
              " '__delitem__',\n",
              " '__dir__',\n",
              " '__doc__',\n",
              " '__eq__',\n",
              " '__format__',\n",
              " '__ge__',\n",
              " '__getattribute__',\n",
              " '__getitem__',\n",
              " '__gt__',\n",
              " '__hash__',\n",
              " '__iadd__',\n",
              " '__imul__',\n",
              " '__init__',\n",
              " '__init_subclass__',\n",
              " '__iter__',\n",
              " '__le__',\n",
              " '__len__',\n",
              " '__lt__',\n",
              " '__mul__',\n",
              " '__ne__',\n",
              " '__new__',\n",
              " '__reduce__',\n",
              " '__reduce_ex__',\n",
              " '__repr__',\n",
              " '__reversed__',\n",
              " '__rmul__',\n",
              " '__setattr__',\n",
              " '__setitem__',\n",
              " '__sizeof__',\n",
              " '__str__',\n",
              " '__subclasshook__',\n",
              " 'append',\n",
              " 'clear',\n",
              " 'copy',\n",
              " 'count',\n",
              " 'extend',\n",
              " 'index',\n",
              " 'insert',\n",
              " 'pop',\n",
              " 'remove',\n",
              " 'reverse',\n",
              " 'sort']"
            ]
          },
          "metadata": {
            "tags": []
          },
          "execution_count": 28
        }
      ]
    },
    {
      "cell_type": "code",
      "metadata": {
        "colab": {
          "base_uri": "https://localhost:8080/"
        },
        "id": "0A_5bHK3FVrB",
        "outputId": "23ebd786-05a0-4908-a45c-1b540d7218b0"
      },
      "source": [
        "#Slicing sobre listas\r\n",
        "frutas= [\"melon\", \"sandia\", \"kiwi\", \"aguacate\", \"mango\", \"platano\"]\r\n",
        "print(frutas[1:4:])\r\n",
        "\r\n",
        "SO= [\"Windows\", \"mac Os\", \"Linux\", \"Android\"]\r\n",
        "autos= [\"Ford\", \"Mazda\", \"Honda\"]\r\n",
        "\r\n",
        "cosas= [SO, autos]\r\n",
        "print(cosas)\r\n",
        "print(cosas[1]) #Imprime la primera posicion, toda la primera lista\r\n",
        "print(cosas[0][2]) #Imprime solo Linux\r\n",
        "print(cosas[0][2][2:5:1]) #imprime solo nux\r\n",
        "print(cosas[1][1][-2:-5:-1]) #imprime solo dza"
      ],
      "execution_count": 41,
      "outputs": [
        {
          "output_type": "stream",
          "text": [
            "['sandia', 'kiwi', 'aguacate']\n",
            "[['Windows', 'mac Os', 'Linux', 'Android'], ['Ford', 'Mazda', 'Honda']]\n",
            "['Ford', 'Mazda', 'Honda']\n",
            "Linux\n",
            "nux\n",
            "dza\n"
          ],
          "name": "stdout"
        }
      ]
    }
  ]
}