{
  "nbformat": 4,
  "nbformat_minor": 0,
  "metadata": {
    "colab": {
      "name": "Tarea3.ipynb",
      "provenance": [],
      "authorship_tag": "ABX9TyPsDhxLRxlnW0FKbCMZS4J+",
      "include_colab_link": true
    },
    "kernelspec": {
      "name": "python3",
      "display_name": "Python 3"
    }
  },
  "cells": [
    {
      "cell_type": "markdown",
      "metadata": {
        "id": "view-in-github",
        "colab_type": "text"
      },
      "source": [
        "<a href=\"https://colab.research.google.com/github/Gshadow6/cyp_2021/blob/main/Tarea3.ipynb\" target=\"_parent\"><img src=\"https://colab.research.google.com/assets/colab-badge.svg\" alt=\"Open In Colab\"/></a>"
      ]
    },
    {
      "cell_type": "code",
      "metadata": {
        "colab": {
          "base_uri": "https://localhost:8080/"
        },
        "id": "zMJc0xmW7GQC",
        "outputId": "8a5508df-eed5-4db3-a857-17adfcd5a8d9"
      },
      "source": [
        "#Ejemplo 1.1\n",
        "PREPRO = float #precio del producto\n",
        "PAGO = float #pago del producto\n",
        "DEVO = float #devolucion del cambio\n",
        "\n",
        "PREPRO = float(input(\"Ingrese el precio del producto \"))\n",
        "PAGO = float(input(\"Ingrese el pago realizado por el cliente \"))\n",
        "DEVO = PAGO - PREPRO\n",
        "\n",
        "print(f\"El producto cuesta {PREPRO}, el cliente pago con {PAGO}; su cambio es: {DEVO}\")"
      ],
      "execution_count": 17,
      "outputs": [
        {
          "output_type": "stream",
          "text": [
            "Ingrese el precio del producto 86.25\n",
            "Ingrese el pago realizado por el cliente 100\n",
            "El producto cuesta 86.25, el cliente pago con 100.0; su cambio es: 13.75\n"
          ],
          "name": "stdout"
        }
      ]
    },
    {
      "cell_type": "code",
      "metadata": {
        "colab": {
          "base_uri": "https://localhost:8080/"
        },
        "id": "Dth3rHR6uJ8Z",
        "outputId": "a0eb4f2f-c7c8-461a-81da-6226ee17afa6"
      },
      "source": [
        "#Ejemplo 1.2\n",
        "BASE = 0.0\n",
        "ALTU = 0.0\n",
        "SUPER= 0.0\n",
        "\n",
        "BASE = float(input(\"Ingrese la base del triangulo \"))\n",
        "ALTU = float(input(\"Ingrese la altura del triangulo \"))\n",
        "SUPER = BASE * ALTU /2\n",
        "print(f\"Un triangulo de base {BASE} y altura {ALTU}, tiene una superficie o area de {SUPER}\")"
      ],
      "execution_count": 6,
      "outputs": [
        {
          "output_type": "stream",
          "text": [
            "Ingrese la base del triangulo 9.3\n",
            "Ingrese la altura del triangulo 12.5\n",
            "Un triangulo de base 9.3 y altura 12.5, tiene una superficie o area de 58.12500000000001\n"
          ],
          "name": "stdout"
        }
      ]
    },
    {
      "cell_type": "code",
      "metadata": {
        "colab": {
          "base_uri": "https://localhost:8080/"
        },
        "id": "4C4OEin7yHm5",
        "outputId": "7bde80ca-6ce3-418d-ceb6-c34c454ea053"
      },
      "source": [
        "#Ejemplo 1.3\n",
        "NOM = str\n",
        "PES = float\n",
        "LON = float\n",
        "\n",
        "NOM = str(input(\"Ingrese el nombre del dinosaurio \"))\n",
        "PES = float(input(\"Ingrese el peso en toneladas \"))\n",
        "LON = float(input(\"Ingrese la longitud en pies \"))\n",
        "\n",
        "PESKIL = PES * 1000\n",
        "LONMET = LON * 0.3047\n",
        "print(f\"El dinosaurio {NOM} pesa {PESKIL}kg y mide {LONMET} mts\")"
      ],
      "execution_count": 13,
      "outputs": [
        {
          "output_type": "stream",
          "text": [
            "Ingrese el nombre del dinosaurio PLATEOSAURUS\n",
            "Ingrese el peso en toneladas 5\n",
            "Ingrese la longitud en pies 30\n",
            "El dinosaurio PLATEOSAURUS pesa 5000.0kg y mide 9.141 mts\n"
          ],
          "name": "stdout"
        }
      ]
    },
    {
      "cell_type": "code",
      "metadata": {
        "colab": {
          "base_uri": "https://localhost:8080/"
        },
        "id": "chDC3aa30UrG",
        "outputId": "570a4042-00f2-4472-9233-34cf7aeb7c23"
      },
      "source": [
        "#Ejemplo 1.4\n",
        "GAL = float\n",
        "TOTAL = float\n",
        "\n",
        "GAL = float(input(\"Ingrese la cantidad de gasolina en galones \"))\n",
        "\n",
        "TOTAL = (GAL * 3.785) * 8.20\n",
        "\n",
        "print(f\"EL precio es ${TOTAL}\")"
      ],
      "execution_count": 16,
      "outputs": [
        {
          "output_type": "stream",
          "text": [
            "Ingrese la cantidad de gasolina en galones 10.38\n",
            "EL precio es $322.16406\n"
          ],
          "name": "stdout"
        }
      ]
    },
    {
      "cell_type": "code",
      "metadata": {
        "colab": {
          "base_uri": "https://localhost:8080/"
        },
        "id": "uyHqE_Vj5eBG",
        "outputId": "e3b8c370-c639-4ce5-9931-390cf99375e2"
      },
      "source": [
        "#Ejemplo 1.5\n",
        "RADIO = float\n",
        "ALTU = float\n",
        "SUP = float\n",
        "VOL = float\n",
        "\n",
        "RADIO = float(input(\"Ingrese el radio del cilindro \"))\n",
        "ALTU = float(input(\"Ingrese la aultura del cilindro \")) \n",
        "SUP = (3.141592 * (RADIO ** 2)) * ALTU\n",
        "VOL = ((2 * 3.141592) * RADIO) * ALTU\n",
        "\n",
        "print(f\"Un cilindro de radio {RADIO} y altura {ALTU}, tiene una superficie o area de {SUP} y un volumen de {VOL}\")"
      ],
      "execution_count": 22,
      "outputs": [
        {
          "output_type": "stream",
          "text": [
            "Ingrese el radio del cilindro 17.30\n",
            "Ingrese la aultura del cilindro 8.45\n",
            "Un cilindro de radio 17.3 y altura 8.45, tiene una superficie o area de 7945.087738796 y un volumen de 918.5072530399999\n"
          ],
          "name": "stdout"
        }
      ]
    },
    {
      "cell_type": "code",
      "metadata": {
        "colab": {
          "base_uri": "https://localhost:8080/"
        },
        "id": "jzNDbSkXCRMg",
        "outputId": "25316120-8786-4dd4-cbb1-28ae29b9af3b"
      },
      "source": [
        "#Ejemplo 1.6\n",
        "DIAS = int\n",
        "SEG = int\n",
        "\n",
        "DIAS = int(input(\"Ingresa el numero de dias que desee saber el equivalente en segundos\"))\n",
        "SEG = DIAS * 86400 #60seg * 60min= 3600 seg tiene una hora --> 3600 seg * 24 hrs = 86400 seg en un dia \n",
        "\n",
        "print(f\"En {DIAS} dias tiene {SEG} segundos\")"
      ],
      "execution_count": 24,
      "outputs": [
        {
          "output_type": "stream",
          "text": [
            "Ingresa el numero de dias que desee saber el equivalente en segundos7\n",
            "7 dias tiene 604800 segundos\n"
          ],
          "name": "stdout"
        }
      ]
    },
    {
      "cell_type": "code",
      "metadata": {
        "colab": {
          "base_uri": "https://localhost:8080/"
        },
        "id": "3UcrJ2GlFtYK",
        "outputId": "0ffa1f3d-3eaa-4865-edb9-98bf1dd920eb"
      },
      "source": [
        "#Ejemplo 1.7\n",
        "L1 = float\n",
        "L2 = float\n",
        "L3 = float\n",
        "S = float\n",
        "AREA = float\n",
        "\n",
        "L1 = float(input(\"Ingrese el primer lado del triangulo \"))\n",
        "L2 = float(input(\"Ingrese el segundo lado del triangulo \"))\n",
        "L3 = float(input(\"Ingrese el tercer lado del triangulo \"))\n",
        "S = (L1 + L2 + L3) /2\n",
        "import math\n",
        "AREA = math.sqrt(S * (S - L1) * (S - L2) * (S - L3))\n",
        "\n",
        "print(f\"El triangulo tiene de area {AREA}\")"
      ],
      "execution_count": 28,
      "outputs": [
        {
          "output_type": "stream",
          "text": [
            "Ingrese el primer lado del triangulo 7.5\n",
            "Ingrese el segundo lado del triangulo 7.5\n",
            "Ingrese el tercer lado del triangulo 7.5\n",
            "El triangulo tiene de area 24.356964481437338\n"
          ],
          "name": "stdout"
        }
      ]
    }
  ]
}